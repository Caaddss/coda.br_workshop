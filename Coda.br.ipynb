{
 "cells": [
  {
   "cell_type": "markdown",
   "metadata": {},
   "source": [
    "# Coda.Br 2018 \n",
    "\n",
    "## Conferência Brasileira de Jornalismo de Dados e métodos digitais\n",
    "--------------------------------------------------------------------------------------"
   ]
  },
  {
   "cell_type": "markdown",
   "metadata": {},
   "source": [
    "### *Iluminando o mar de dados - Uma introdução a Python para análise de dados*\n",
    "\n",
    "##### Por *Caroline Dantas*"
   ]
  },
  {
   "cell_type": "markdown",
   "metadata": {},
   "source": [
    "Nesse workshop vamos estudar como analisar um dataset público utilizando Python!! O dataset em questão é dos candidatos as Eleições Gerais de 2018, disponível no site do Tribunal Superior Eleitoral - [TSE](http://www.tse.jus.br/eleicoes/estatisticas/repositorio-de-dados-eleitorais-1/repositorio-de-dados-eleitorais).\n"
   ]
  },
  {
   "cell_type": "markdown",
   "metadata": {},
   "source": [
    "#### Por que Python e não outra linguagem?"
   ]
  },
  {
   "cell_type": "markdown",
   "metadata": {},
   "source": [
    "Python destaca-se pela rapidez em escrever programas relativamente pequenos, porém capazes de automatizar diversas tarefas, sem perder a robustez. Por ser uma linguagem de código aberto, a comunidade que a mantém tem grande comprometimento em manter as ferramentas atualizadas, a colocou como uma das principais para aplicações científicas, como a análise de dados.\n"
   ]
  },
  {
   "cell_type": "markdown",
   "metadata": {},
   "source": [
    "### As ferramentas para análise de dados"
   ]
  },
  {
   "cell_type": "markdown",
   "metadata": {},
   "source": [
    "##### IPython e Jupyter\n",
    "Código interativo\n",
    "\n",
    "##### pandas\n",
    "Manipulação de dados\n",
    "\n",
    "##### NumPy\n",
    "Processamento numérico\n",
    "\n",
    "##### matplolib\n",
    "Visualização dos dados\n"
   ]
  },
  {
   "cell_type": "markdown",
   "metadata": {},
   "source": [
    "### Iniciando nosso estudo"
   ]
  },
  {
   "cell_type": "markdown",
   "metadata": {},
   "source": [
    "Começamos com a manipulação dos dados compreendendo o que temos no dataset onde será necessário a limpeza dos dados e/ou a padronização, para isso utilizaremos o *pandas*.\n",
    "\n",
    "Faremos a importação da biblioteca para o nosso ambiente"
   ]
  },
  {
   "cell_type": "code",
   "execution_count": 1,
   "metadata": {},
   "outputs": [],
   "source": [
    "import pandas as pd"
   ]
  },
  {
   "cell_type": "markdown",
   "metadata": {},
   "source": [
    "## 1.0 Overview\n",
    "----------------"
   ]
  },
  {
   "cell_type": "markdown",
   "metadata": {},
   "source": [
    "Feita a importação, vamos agora ler o nosso dataset, e transforma-lo para um dataframe"
   ]
  },
  {
   "cell_type": "code",
   "execution_count": 2,
   "metadata": {},
   "outputs": [],
   "source": [
    "dataframe = pd.read_csv('consulta_cand_2018_BRASIL.csv', delimiter=';', encoding='latin-1')"
   ]
  },
  {
   "cell_type": "markdown",
   "metadata": {},
   "source": [
    "Agora iremos ver a apresentação dos dados, em um resumo das 5 primeiras linhas"
   ]
  },
  {
   "cell_type": "code",
   "execution_count": 3,
   "metadata": {},
   "outputs": [
    {
     "data": {
      "text/html": [
       "<div>\n",
       "<style scoped>\n",
       "    .dataframe tbody tr th:only-of-type {\n",
       "        vertical-align: middle;\n",
       "    }\n",
       "\n",
       "    .dataframe tbody tr th {\n",
       "        vertical-align: top;\n",
       "    }\n",
       "\n",
       "    .dataframe thead th {\n",
       "        text-align: right;\n",
       "    }\n",
       "</style>\n",
       "<table border=\"1\" class=\"dataframe\">\n",
       "  <thead>\n",
       "    <tr style=\"text-align: right;\">\n",
       "      <th></th>\n",
       "      <th>DT_GERACAO</th>\n",
       "      <th>HH_GERACAO</th>\n",
       "      <th>ANO_ELEICAO</th>\n",
       "      <th>CD_TIPO_ELEICAO</th>\n",
       "      <th>NM_TIPO_ELEICAO</th>\n",
       "      <th>NR_TURNO</th>\n",
       "      <th>CD_ELEICAO</th>\n",
       "      <th>DS_ELEICAO</th>\n",
       "      <th>DT_ELEICAO</th>\n",
       "      <th>TP_ABRANGENCIA</th>\n",
       "      <th>...</th>\n",
       "      <th>DS_COR_RACA</th>\n",
       "      <th>CD_OCUPACAO</th>\n",
       "      <th>DS_OCUPACAO</th>\n",
       "      <th>NR_DESPESA_MAX_CAMPANHA</th>\n",
       "      <th>CD_SIT_TOT_TURNO</th>\n",
       "      <th>DS_SIT_TOT_TURNO</th>\n",
       "      <th>ST_REELEICAO</th>\n",
       "      <th>ST_DECLARAR_BENS</th>\n",
       "      <th>NR_PROTOCOLO_CANDIDATURA</th>\n",
       "      <th>NR_PROCESSO</th>\n",
       "    </tr>\n",
       "  </thead>\n",
       "  <tbody>\n",
       "    <tr>\n",
       "      <th>0</th>\n",
       "      <td>30/10/2018</td>\n",
       "      <td>10:39:17</td>\n",
       "      <td>2018</td>\n",
       "      <td>2</td>\n",
       "      <td>ELEIÇÃO ORDINÁRIA</td>\n",
       "      <td>1</td>\n",
       "      <td>297</td>\n",
       "      <td>Eleições Gerais Estaduais 2018</td>\n",
       "      <td>07/10/2018</td>\n",
       "      <td>ESTADUAL</td>\n",
       "      <td>...</td>\n",
       "      <td>PARDA</td>\n",
       "      <td>169</td>\n",
       "      <td>COMERCIANTE</td>\n",
       "      <td>0</td>\n",
       "      <td>5</td>\n",
       "      <td>SUPLENTE</td>\n",
       "      <td>N</td>\n",
       "      <td>S</td>\n",
       "      <td>-1</td>\n",
       "      <td>6011428620186060000</td>\n",
       "    </tr>\n",
       "    <tr>\n",
       "      <th>1</th>\n",
       "      <td>30/10/2018</td>\n",
       "      <td>10:39:17</td>\n",
       "      <td>2018</td>\n",
       "      <td>2</td>\n",
       "      <td>ELEIÇÃO ORDINÁRIA</td>\n",
       "      <td>1</td>\n",
       "      <td>297</td>\n",
       "      <td>Eleições Gerais Estaduais 2018</td>\n",
       "      <td>07/10/2018</td>\n",
       "      <td>ESTADUAL</td>\n",
       "      <td>...</td>\n",
       "      <td>PARDA</td>\n",
       "      <td>999</td>\n",
       "      <td>OUTROS</td>\n",
       "      <td>0</td>\n",
       "      <td>5</td>\n",
       "      <td>SUPLENTE</td>\n",
       "      <td>N</td>\n",
       "      <td>N</td>\n",
       "      <td>-1</td>\n",
       "      <td>6044512320186130000</td>\n",
       "    </tr>\n",
       "    <tr>\n",
       "      <th>2</th>\n",
       "      <td>30/10/2018</td>\n",
       "      <td>10:39:17</td>\n",
       "      <td>2018</td>\n",
       "      <td>2</td>\n",
       "      <td>ELEIÇÃO ORDINÁRIA</td>\n",
       "      <td>1</td>\n",
       "      <td>297</td>\n",
       "      <td>Eleições Gerais Estaduais 2018</td>\n",
       "      <td>07/10/2018</td>\n",
       "      <td>ESTADUAL</td>\n",
       "      <td>...</td>\n",
       "      <td>PRETA</td>\n",
       "      <td>257</td>\n",
       "      <td>EMPRESÁRIO</td>\n",
       "      <td>0</td>\n",
       "      <td>5</td>\n",
       "      <td>SUPLENTE</td>\n",
       "      <td>N</td>\n",
       "      <td>S</td>\n",
       "      <td>-1</td>\n",
       "      <td>6009010420186100000</td>\n",
       "    </tr>\n",
       "    <tr>\n",
       "      <th>3</th>\n",
       "      <td>30/10/2018</td>\n",
       "      <td>10:39:17</td>\n",
       "      <td>2018</td>\n",
       "      <td>2</td>\n",
       "      <td>ELEIÇÃO ORDINÁRIA</td>\n",
       "      <td>1</td>\n",
       "      <td>297</td>\n",
       "      <td>Eleições Gerais Estaduais 2018</td>\n",
       "      <td>07/10/2018</td>\n",
       "      <td>ESTADUAL</td>\n",
       "      <td>...</td>\n",
       "      <td>PARDA</td>\n",
       "      <td>999</td>\n",
       "      <td>OUTROS</td>\n",
       "      <td>0</td>\n",
       "      <td>5</td>\n",
       "      <td>SUPLENTE</td>\n",
       "      <td>N</td>\n",
       "      <td>N</td>\n",
       "      <td>-1</td>\n",
       "      <td>6003259220186070000</td>\n",
       "    </tr>\n",
       "    <tr>\n",
       "      <th>4</th>\n",
       "      <td>30/10/2018</td>\n",
       "      <td>10:39:17</td>\n",
       "      <td>2018</td>\n",
       "      <td>2</td>\n",
       "      <td>ELEIÇÃO ORDINÁRIA</td>\n",
       "      <td>1</td>\n",
       "      <td>297</td>\n",
       "      <td>Eleições Gerais Estaduais 2018</td>\n",
       "      <td>07/10/2018</td>\n",
       "      <td>ESTADUAL</td>\n",
       "      <td>...</td>\n",
       "      <td>BRANCA</td>\n",
       "      <td>999</td>\n",
       "      <td>OUTROS</td>\n",
       "      <td>0</td>\n",
       "      <td>5</td>\n",
       "      <td>SUPLENTE</td>\n",
       "      <td>N</td>\n",
       "      <td>S</td>\n",
       "      <td>-1</td>\n",
       "      <td>6014104820186130000</td>\n",
       "    </tr>\n",
       "  </tbody>\n",
       "</table>\n",
       "<p>5 rows × 58 columns</p>\n",
       "</div>"
      ],
      "text/plain": [
       "   DT_GERACAO HH_GERACAO  ANO_ELEICAO  CD_TIPO_ELEICAO    NM_TIPO_ELEICAO  \\\n",
       "0  30/10/2018   10:39:17         2018                2  ELEIÇÃO ORDINÁRIA   \n",
       "1  30/10/2018   10:39:17         2018                2  ELEIÇÃO ORDINÁRIA   \n",
       "2  30/10/2018   10:39:17         2018                2  ELEIÇÃO ORDINÁRIA   \n",
       "3  30/10/2018   10:39:17         2018                2  ELEIÇÃO ORDINÁRIA   \n",
       "4  30/10/2018   10:39:17         2018                2  ELEIÇÃO ORDINÁRIA   \n",
       "\n",
       "   NR_TURNO  CD_ELEICAO                      DS_ELEICAO  DT_ELEICAO  \\\n",
       "0         1         297  Eleições Gerais Estaduais 2018  07/10/2018   \n",
       "1         1         297  Eleições Gerais Estaduais 2018  07/10/2018   \n",
       "2         1         297  Eleições Gerais Estaduais 2018  07/10/2018   \n",
       "3         1         297  Eleições Gerais Estaduais 2018  07/10/2018   \n",
       "4         1         297  Eleições Gerais Estaduais 2018  07/10/2018   \n",
       "\n",
       "  TP_ABRANGENCIA         ...          DS_COR_RACA CD_OCUPACAO  DS_OCUPACAO  \\\n",
       "0       ESTADUAL         ...                PARDA         169  COMERCIANTE   \n",
       "1       ESTADUAL         ...                PARDA         999       OUTROS   \n",
       "2       ESTADUAL         ...                PRETA         257   EMPRESÁRIO   \n",
       "3       ESTADUAL         ...                PARDA         999       OUTROS   \n",
       "4       ESTADUAL         ...               BRANCA         999       OUTROS   \n",
       "\n",
       "   NR_DESPESA_MAX_CAMPANHA CD_SIT_TOT_TURNO  DS_SIT_TOT_TURNO  ST_REELEICAO  \\\n",
       "0                        0                5          SUPLENTE             N   \n",
       "1                        0                5          SUPLENTE             N   \n",
       "2                        0                5          SUPLENTE             N   \n",
       "3                        0                5          SUPLENTE             N   \n",
       "4                        0                5          SUPLENTE             N   \n",
       "\n",
       "  ST_DECLARAR_BENS NR_PROTOCOLO_CANDIDATURA          NR_PROCESSO  \n",
       "0                S                       -1  6011428620186060000  \n",
       "1                N                       -1  6044512320186130000  \n",
       "2                S                       -1  6009010420186100000  \n",
       "3                N                       -1  6003259220186070000  \n",
       "4                S                       -1  6014104820186130000  \n",
       "\n",
       "[5 rows x 58 columns]"
      ]
     },
     "execution_count": 3,
     "metadata": {},
     "output_type": "execute_result"
    }
   ],
   "source": [
    "dataframe.head()"
   ]
  },
  {
   "cell_type": "markdown",
   "metadata": {},
   "source": [
    "Vimos que esse dataframe tem 58 colunas, porém não conseguimos ver todas nesse overview, vamos usar uma função para isso"
   ]
  },
  {
   "cell_type": "code",
   "execution_count": 4,
   "metadata": {},
   "outputs": [
    {
     "name": "stdout",
     "output_type": "stream",
     "text": [
      "<class 'pandas.core.frame.DataFrame'>\n",
      "RangeIndex: 29145 entries, 0 to 29144\n",
      "Data columns (total 58 columns):\n",
      "DT_GERACAO                       29145 non-null object\n",
      "HH_GERACAO                       29145 non-null object\n",
      "ANO_ELEICAO                      29145 non-null int64\n",
      "CD_TIPO_ELEICAO                  29145 non-null int64\n",
      "NM_TIPO_ELEICAO                  29145 non-null object\n",
      "NR_TURNO                         29145 non-null int64\n",
      "CD_ELEICAO                       29145 non-null int64\n",
      "DS_ELEICAO                       29145 non-null object\n",
      "DT_ELEICAO                       29145 non-null object\n",
      "TP_ABRANGENCIA                   29145 non-null object\n",
      "SG_UF                            29145 non-null object\n",
      "SG_UE                            29145 non-null object\n",
      "NM_UE                            29145 non-null object\n",
      "CD_CARGO                         29145 non-null int64\n",
      "DS_CARGO                         29145 non-null object\n",
      "SQ_CANDIDATO                     29145 non-null int64\n",
      "NR_CANDIDATO                     29145 non-null int64\n",
      "NM_CANDIDATO                     29145 non-null object\n",
      "NM_URNA_CANDIDATO                29145 non-null object\n",
      "NM_SOCIAL_CANDIDATO              29145 non-null object\n",
      "NR_CPF_CANDIDATO                 29145 non-null int64\n",
      "NM_EMAIL                         29145 non-null object\n",
      "CD_SITUACAO_CANDIDATURA          29145 non-null int64\n",
      "DS_SITUACAO_CANDIDATURA          29145 non-null object\n",
      "CD_DETALHE_SITUACAO_CAND         29145 non-null int64\n",
      "DS_DETALHE_SITUACAO_CAND         29145 non-null object\n",
      "TP_AGREMIACAO                    29145 non-null object\n",
      "NR_PARTIDO                       29145 non-null int64\n",
      "SG_PARTIDO                       29145 non-null object\n",
      "NM_PARTIDO                       29145 non-null object\n",
      "SQ_COLIGACAO                     29145 non-null int64\n",
      "NM_COLIGACAO                     29145 non-null object\n",
      "DS_COMPOSICAO_COLIGACAO          29145 non-null object\n",
      "CD_NACIONALIDADE                 29145 non-null int64\n",
      "DS_NACIONALIDADE                 29145 non-null object\n",
      "SG_UF_NASCIMENTO                 29145 non-null object\n",
      "CD_MUNICIPIO_NASCIMENTO          29145 non-null int64\n",
      "NM_MUNICIPIO_NASCIMENTO          29145 non-null object\n",
      "DT_NASCIMENTO                    29145 non-null object\n",
      "NR_IDADE_DATA_POSSE              29145 non-null int64\n",
      "NR_TITULO_ELEITORAL_CANDIDATO    29145 non-null int64\n",
      "CD_GENERO                        29145 non-null int64\n",
      "DS_GENERO                        29145 non-null object\n",
      "CD_GRAU_INSTRUCAO                29145 non-null int64\n",
      "DS_GRAU_INSTRUCAO                29145 non-null object\n",
      "CD_ESTADO_CIVIL                  29145 non-null int64\n",
      "DS_ESTADO_CIVIL                  29145 non-null object\n",
      "CD_COR_RACA                      29145 non-null int64\n",
      "DS_COR_RACA                      29145 non-null object\n",
      "CD_OCUPACAO                      29145 non-null int64\n",
      "DS_OCUPACAO                      29145 non-null object\n",
      "NR_DESPESA_MAX_CAMPANHA          29145 non-null int64\n",
      "CD_SIT_TOT_TURNO                 29145 non-null int64\n",
      "DS_SIT_TOT_TURNO                 29145 non-null object\n",
      "ST_REELEICAO                     29145 non-null object\n",
      "ST_DECLARAR_BENS                 29145 non-null object\n",
      "NR_PROTOCOLO_CANDIDATURA         29145 non-null int64\n",
      "NR_PROCESSO                      29145 non-null int64\n",
      "dtypes: int64(25), object(33)\n",
      "memory usage: 12.9+ MB\n"
     ]
    }
   ],
   "source": [
    "dataframe.info()"
   ]
  },
  {
   "cell_type": "code",
   "execution_count": 5,
   "metadata": {},
   "outputs": [
    {
     "data": {
      "text/html": [
       "<div>\n",
       "<style scoped>\n",
       "    .dataframe tbody tr th:only-of-type {\n",
       "        vertical-align: middle;\n",
       "    }\n",
       "\n",
       "    .dataframe tbody tr th {\n",
       "        vertical-align: top;\n",
       "    }\n",
       "\n",
       "    .dataframe thead th {\n",
       "        text-align: right;\n",
       "    }\n",
       "</style>\n",
       "<table border=\"1\" class=\"dataframe\">\n",
       "  <thead>\n",
       "    <tr style=\"text-align: right;\">\n",
       "      <th></th>\n",
       "      <th>DT_GERACAO</th>\n",
       "      <th>HH_GERACAO</th>\n",
       "      <th>ANO_ELEICAO</th>\n",
       "      <th>CD_TIPO_ELEICAO</th>\n",
       "      <th>NM_TIPO_ELEICAO</th>\n",
       "      <th>NR_TURNO</th>\n",
       "      <th>CD_ELEICAO</th>\n",
       "      <th>DS_ELEICAO</th>\n",
       "      <th>DT_ELEICAO</th>\n",
       "      <th>TP_ABRANGENCIA</th>\n",
       "      <th>...</th>\n",
       "      <th>DS_COR_RACA</th>\n",
       "      <th>CD_OCUPACAO</th>\n",
       "      <th>DS_OCUPACAO</th>\n",
       "      <th>NR_DESPESA_MAX_CAMPANHA</th>\n",
       "      <th>CD_SIT_TOT_TURNO</th>\n",
       "      <th>DS_SIT_TOT_TURNO</th>\n",
       "      <th>ST_REELEICAO</th>\n",
       "      <th>ST_DECLARAR_BENS</th>\n",
       "      <th>NR_PROTOCOLO_CANDIDATURA</th>\n",
       "      <th>NR_PROCESSO</th>\n",
       "    </tr>\n",
       "  </thead>\n",
       "  <tbody>\n",
       "    <tr>\n",
       "      <th>15620</th>\n",
       "      <td>30/10/2018</td>\n",
       "      <td>10:39:17</td>\n",
       "      <td>2018</td>\n",
       "      <td>2</td>\n",
       "      <td>ELEIÇÃO ORDINÁRIA</td>\n",
       "      <td>1</td>\n",
       "      <td>297</td>\n",
       "      <td>Eleições Gerais Estaduais 2018</td>\n",
       "      <td>07/10/2018</td>\n",
       "      <td>ESTADUAL</td>\n",
       "      <td>...</td>\n",
       "      <td>BRANCA</td>\n",
       "      <td>999</td>\n",
       "      <td>OUTROS</td>\n",
       "      <td>-1</td>\n",
       "      <td>-1</td>\n",
       "      <td>#NULO#</td>\n",
       "      <td>N</td>\n",
       "      <td>N</td>\n",
       "      <td>-1</td>\n",
       "      <td>6002947720186140000</td>\n",
       "    </tr>\n",
       "  </tbody>\n",
       "</table>\n",
       "<p>1 rows × 58 columns</p>\n",
       "</div>"
      ],
      "text/plain": [
       "       DT_GERACAO HH_GERACAO  ANO_ELEICAO  CD_TIPO_ELEICAO    NM_TIPO_ELEICAO  \\\n",
       "15620  30/10/2018   10:39:17         2018                2  ELEIÇÃO ORDINÁRIA   \n",
       "\n",
       "       NR_TURNO  CD_ELEICAO                      DS_ELEICAO  DT_ELEICAO  \\\n",
       "15620         1         297  Eleições Gerais Estaduais 2018  07/10/2018   \n",
       "\n",
       "      TP_ABRANGENCIA         ...          DS_COR_RACA CD_OCUPACAO DS_OCUPACAO  \\\n",
       "15620       ESTADUAL         ...               BRANCA         999      OUTROS   \n",
       "\n",
       "       NR_DESPESA_MAX_CAMPANHA CD_SIT_TOT_TURNO  DS_SIT_TOT_TURNO  \\\n",
       "15620                       -1               -1            #NULO#   \n",
       "\n",
       "       ST_REELEICAO ST_DECLARAR_BENS NR_PROTOCOLO_CANDIDATURA  \\\n",
       "15620             N                N                       -1   \n",
       "\n",
       "               NR_PROCESSO  \n",
       "15620  6002947720186140000  \n",
       "\n",
       "[1 rows x 58 columns]"
      ]
     },
     "execution_count": 5,
     "metadata": {},
     "output_type": "execute_result"
    }
   ],
   "source": [
    "dataframe[dataframe.NR_IDADE_DATA_POSSE == 825]\n"
   ]
  },
  {
   "cell_type": "code",
   "execution_count": 6,
   "metadata": {},
   "outputs": [],
   "source": [
    "dataframe = dataframe.drop(dataframe.index[15620])"
   ]
  },
  {
   "cell_type": "markdown",
   "metadata": {},
   "source": [
    "## 1.1 Quais colunas vamos analisar?\n",
    "----"
   ]
  },
  {
   "cell_type": "markdown",
   "metadata": {},
   "source": [
    "1. UE\n",
    "2. UF\n",
    "3. GÊNERO\n",
    "4. IDADE DATA DA POSSE\n",
    "5. COR RAÇA\n",
    "6. CARGO\n",
    "7. DESPESA MÁXIMA º\n",
    "8. REELEIÇÃO\n",
    "9. DECLARAR BENS"
   ]
  },
  {
   "cell_type": "markdown",
   "metadata": {},
   "source": [
    "### 1.1.1 Vamos contabilizar os dados dessas colunas"
   ]
  },
  {
   "cell_type": "code",
   "execution_count": 7,
   "metadata": {},
   "outputs": [],
   "source": [
    "SG_UE = dataframe.groupby('SG_UE')['SG_UE'].count()"
   ]
  },
  {
   "cell_type": "code",
   "execution_count": 8,
   "metadata": {},
   "outputs": [
    {
     "data": {
      "text/plain": [
       "SG_UE\n",
       "AC     586\n",
       "AL     461\n",
       "AM     859\n",
       "AP     667\n",
       "BA    1196\n",
       "BR      32\n",
       "CE     913\n",
       "DF    1262\n",
       "ES     833\n",
       "GO    1193\n",
       "MA     796\n",
       "MG    2378\n",
       "MS     545\n",
       "MT     541\n",
       "PA     902\n",
       "PB     621\n",
       "PE    1094\n",
       "PI     439\n",
       "PR    1288\n",
       "RJ    3699\n",
       "RN     516\n",
       "RO     658\n",
       "RR     687\n",
       "RS    1344\n",
       "SC     788\n",
       "SE     530\n",
       "SP    3952\n",
       "TO     364\n",
       "Name: SG_UE, dtype: int64"
      ]
     },
     "execution_count": 8,
     "metadata": {},
     "output_type": "execute_result"
    }
   ],
   "source": [
    "SG_UE"
   ]
  },
  {
   "cell_type": "code",
   "execution_count": 9,
   "metadata": {},
   "outputs": [],
   "source": [
    "DS_CARGO = dataframe.groupby('DS_CARGO')['DS_CARGO'].count()"
   ]
  },
  {
   "cell_type": "code",
   "execution_count": 10,
   "metadata": {},
   "outputs": [
    {
     "data": {
      "text/plain": [
       "DS_CARGO\n",
       "1º SUPLENTE             385\n",
       "2º SUPLENTE             394\n",
       "DEPUTADO DISTRITAL      981\n",
       "DEPUTADO ESTADUAL     17940\n",
       "DEPUTADO FEDERAL       8588\n",
       "GOVERNADOR              230\n",
       "PRESIDENTE               16\n",
       "SENADOR                 358\n",
       "VICE-GOVERNADOR         236\n",
       "VICE-PRESIDENTE          16\n",
       "Name: DS_CARGO, dtype: int64"
      ]
     },
     "execution_count": 10,
     "metadata": {},
     "output_type": "execute_result"
    }
   ],
   "source": [
    "DS_CARGO"
   ]
  },
  {
   "cell_type": "code",
   "execution_count": 11,
   "metadata": {},
   "outputs": [],
   "source": [
    "DS_GENERO = dataframe.groupby('DS_GENERO')['DS_GENERO'].count()"
   ]
  },
  {
   "cell_type": "code",
   "execution_count": 12,
   "metadata": {},
   "outputs": [
    {
     "data": {
      "text/plain": [
       "DS_GENERO\n",
       "FEMININO      9211\n",
       "MASCULINO    19933\n",
       "Name: DS_GENERO, dtype: int64"
      ]
     },
     "execution_count": 12,
     "metadata": {},
     "output_type": "execute_result"
    }
   ],
   "source": [
    "DS_GENERO"
   ]
  },
  {
   "cell_type": "code",
   "execution_count": 13,
   "metadata": {},
   "outputs": [],
   "source": [
    "NR_IDADE_DATA = dataframe.groupby('NR_IDADE_DATA_POSSE')['NR_IDADE_DATA_POSSE'].count()"
   ]
  },
  {
   "cell_type": "code",
   "execution_count": 14,
   "metadata": {},
   "outputs": [],
   "source": [
    "DS_COR_RACA = dataframe.groupby('DS_COR_RACA')['DS_COR_RACA'].count()"
   ]
  },
  {
   "cell_type": "code",
   "execution_count": 15,
   "metadata": {},
   "outputs": [
    {
     "data": {
      "text/plain": [
       "DS_COR_RACA\n",
       "AMARELA       168\n",
       "BRANCA      15285\n",
       "INDÍGENA      134\n",
       "PARDA       10396\n",
       "PRETA        3161\n",
       "Name: DS_COR_RACA, dtype: int64"
      ]
     },
     "execution_count": 15,
     "metadata": {},
     "output_type": "execute_result"
    }
   ],
   "source": [
    "DS_COR_RACA"
   ]
  },
  {
   "cell_type": "code",
   "execution_count": 16,
   "metadata": {},
   "outputs": [],
   "source": [
    "ST_REELEICAO = dataframe.groupby('ST_REELEICAO')['ST_REELEICAO'].count()"
   ]
  },
  {
   "cell_type": "code",
   "execution_count": 17,
   "metadata": {},
   "outputs": [
    {
     "data": {
      "text/plain": [
       "ST_REELEICAO\n",
       "N    27790\n",
       "S     1354\n",
       "Name: ST_REELEICAO, dtype: int64"
      ]
     },
     "execution_count": 17,
     "metadata": {},
     "output_type": "execute_result"
    }
   ],
   "source": [
    "ST_REELEICAO"
   ]
  },
  {
   "cell_type": "code",
   "execution_count": 18,
   "metadata": {},
   "outputs": [],
   "source": [
    "ST_DECLARAR_BENS = dataframe.groupby('ST_DECLARAR_BENS')['ST_DECLARAR_BENS'].count()"
   ]
  },
  {
   "cell_type": "code",
   "execution_count": 19,
   "metadata": {},
   "outputs": [
    {
     "data": {
      "text/plain": [
       "ST_DECLARAR_BENS\n",
       "N    11314\n",
       "S    17830\n",
       "Name: ST_DECLARAR_BENS, dtype: int64"
      ]
     },
     "execution_count": 19,
     "metadata": {},
     "output_type": "execute_result"
    }
   ],
   "source": [
    "ST_DECLARAR_BENS"
   ]
  },
  {
   "cell_type": "code",
   "execution_count": 20,
   "metadata": {},
   "outputs": [
    {
     "data": {
      "text/html": [
       "<div>\n",
       "<style scoped>\n",
       "    .dataframe tbody tr th:only-of-type {\n",
       "        vertical-align: middle;\n",
       "    }\n",
       "\n",
       "    .dataframe tbody tr th {\n",
       "        vertical-align: top;\n",
       "    }\n",
       "\n",
       "    .dataframe thead th {\n",
       "        text-align: right;\n",
       "    }\n",
       "</style>\n",
       "<table border=\"1\" class=\"dataframe\">\n",
       "  <thead>\n",
       "    <tr style=\"text-align: right;\">\n",
       "      <th></th>\n",
       "      <th>DS_GENERO</th>\n",
       "      <th>DS_COR_RACA</th>\n",
       "    </tr>\n",
       "  </thead>\n",
       "  <tbody>\n",
       "    <tr>\n",
       "      <th>31</th>\n",
       "      <td>FEMININO</td>\n",
       "      <td>PRETA</td>\n",
       "    </tr>\n",
       "    <tr>\n",
       "      <th>44</th>\n",
       "      <td>FEMININO</td>\n",
       "      <td>PRETA</td>\n",
       "    </tr>\n",
       "    <tr>\n",
       "      <th>56</th>\n",
       "      <td>FEMININO</td>\n",
       "      <td>PRETA</td>\n",
       "    </tr>\n",
       "    <tr>\n",
       "      <th>63</th>\n",
       "      <td>FEMININO</td>\n",
       "      <td>PRETA</td>\n",
       "    </tr>\n",
       "    <tr>\n",
       "      <th>119</th>\n",
       "      <td>FEMININO</td>\n",
       "      <td>PRETA</td>\n",
       "    </tr>\n",
       "    <tr>\n",
       "      <th>133</th>\n",
       "      <td>FEMININO</td>\n",
       "      <td>PRETA</td>\n",
       "    </tr>\n",
       "    <tr>\n",
       "      <th>160</th>\n",
       "      <td>FEMININO</td>\n",
       "      <td>PRETA</td>\n",
       "    </tr>\n",
       "    <tr>\n",
       "      <th>179</th>\n",
       "      <td>FEMININO</td>\n",
       "      <td>PRETA</td>\n",
       "    </tr>\n",
       "    <tr>\n",
       "      <th>180</th>\n",
       "      <td>FEMININO</td>\n",
       "      <td>PRETA</td>\n",
       "    </tr>\n",
       "    <tr>\n",
       "      <th>199</th>\n",
       "      <td>FEMININO</td>\n",
       "      <td>PRETA</td>\n",
       "    </tr>\n",
       "    <tr>\n",
       "      <th>238</th>\n",
       "      <td>FEMININO</td>\n",
       "      <td>PRETA</td>\n",
       "    </tr>\n",
       "    <tr>\n",
       "      <th>285</th>\n",
       "      <td>FEMININO</td>\n",
       "      <td>PRETA</td>\n",
       "    </tr>\n",
       "    <tr>\n",
       "      <th>310</th>\n",
       "      <td>FEMININO</td>\n",
       "      <td>PRETA</td>\n",
       "    </tr>\n",
       "    <tr>\n",
       "      <th>328</th>\n",
       "      <td>FEMININO</td>\n",
       "      <td>PRETA</td>\n",
       "    </tr>\n",
       "    <tr>\n",
       "      <th>332</th>\n",
       "      <td>FEMININO</td>\n",
       "      <td>PRETA</td>\n",
       "    </tr>\n",
       "    <tr>\n",
       "      <th>353</th>\n",
       "      <td>FEMININO</td>\n",
       "      <td>PRETA</td>\n",
       "    </tr>\n",
       "    <tr>\n",
       "      <th>357</th>\n",
       "      <td>FEMININO</td>\n",
       "      <td>PRETA</td>\n",
       "    </tr>\n",
       "    <tr>\n",
       "      <th>380</th>\n",
       "      <td>FEMININO</td>\n",
       "      <td>PRETA</td>\n",
       "    </tr>\n",
       "    <tr>\n",
       "      <th>426</th>\n",
       "      <td>FEMININO</td>\n",
       "      <td>PRETA</td>\n",
       "    </tr>\n",
       "    <tr>\n",
       "      <th>446</th>\n",
       "      <td>FEMININO</td>\n",
       "      <td>PRETA</td>\n",
       "    </tr>\n",
       "    <tr>\n",
       "      <th>451</th>\n",
       "      <td>FEMININO</td>\n",
       "      <td>PRETA</td>\n",
       "    </tr>\n",
       "    <tr>\n",
       "      <th>457</th>\n",
       "      <td>FEMININO</td>\n",
       "      <td>PRETA</td>\n",
       "    </tr>\n",
       "    <tr>\n",
       "      <th>492</th>\n",
       "      <td>FEMININO</td>\n",
       "      <td>PRETA</td>\n",
       "    </tr>\n",
       "    <tr>\n",
       "      <th>520</th>\n",
       "      <td>FEMININO</td>\n",
       "      <td>PRETA</td>\n",
       "    </tr>\n",
       "    <tr>\n",
       "      <th>561</th>\n",
       "      <td>FEMININO</td>\n",
       "      <td>PRETA</td>\n",
       "    </tr>\n",
       "    <tr>\n",
       "      <th>562</th>\n",
       "      <td>FEMININO</td>\n",
       "      <td>PRETA</td>\n",
       "    </tr>\n",
       "    <tr>\n",
       "      <th>578</th>\n",
       "      <td>FEMININO</td>\n",
       "      <td>PRETA</td>\n",
       "    </tr>\n",
       "    <tr>\n",
       "      <th>581</th>\n",
       "      <td>FEMININO</td>\n",
       "      <td>PRETA</td>\n",
       "    </tr>\n",
       "    <tr>\n",
       "      <th>606</th>\n",
       "      <td>FEMININO</td>\n",
       "      <td>PRETA</td>\n",
       "    </tr>\n",
       "    <tr>\n",
       "      <th>617</th>\n",
       "      <td>FEMININO</td>\n",
       "      <td>PRETA</td>\n",
       "    </tr>\n",
       "    <tr>\n",
       "      <th>...</th>\n",
       "      <td>...</td>\n",
       "      <td>...</td>\n",
       "    </tr>\n",
       "    <tr>\n",
       "      <th>28763</th>\n",
       "      <td>FEMININO</td>\n",
       "      <td>PRETA</td>\n",
       "    </tr>\n",
       "    <tr>\n",
       "      <th>28780</th>\n",
       "      <td>FEMININO</td>\n",
       "      <td>PRETA</td>\n",
       "    </tr>\n",
       "    <tr>\n",
       "      <th>28788</th>\n",
       "      <td>FEMININO</td>\n",
       "      <td>PRETA</td>\n",
       "    </tr>\n",
       "    <tr>\n",
       "      <th>28790</th>\n",
       "      <td>FEMININO</td>\n",
       "      <td>PRETA</td>\n",
       "    </tr>\n",
       "    <tr>\n",
       "      <th>28808</th>\n",
       "      <td>FEMININO</td>\n",
       "      <td>PRETA</td>\n",
       "    </tr>\n",
       "    <tr>\n",
       "      <th>28826</th>\n",
       "      <td>FEMININO</td>\n",
       "      <td>PRETA</td>\n",
       "    </tr>\n",
       "    <tr>\n",
       "      <th>28828</th>\n",
       "      <td>FEMININO</td>\n",
       "      <td>PRETA</td>\n",
       "    </tr>\n",
       "    <tr>\n",
       "      <th>28830</th>\n",
       "      <td>FEMININO</td>\n",
       "      <td>PRETA</td>\n",
       "    </tr>\n",
       "    <tr>\n",
       "      <th>28846</th>\n",
       "      <td>FEMININO</td>\n",
       "      <td>PRETA</td>\n",
       "    </tr>\n",
       "    <tr>\n",
       "      <th>28849</th>\n",
       "      <td>FEMININO</td>\n",
       "      <td>PRETA</td>\n",
       "    </tr>\n",
       "    <tr>\n",
       "      <th>28871</th>\n",
       "      <td>FEMININO</td>\n",
       "      <td>PRETA</td>\n",
       "    </tr>\n",
       "    <tr>\n",
       "      <th>28883</th>\n",
       "      <td>FEMININO</td>\n",
       "      <td>PRETA</td>\n",
       "    </tr>\n",
       "    <tr>\n",
       "      <th>28884</th>\n",
       "      <td>FEMININO</td>\n",
       "      <td>PRETA</td>\n",
       "    </tr>\n",
       "    <tr>\n",
       "      <th>28886</th>\n",
       "      <td>FEMININO</td>\n",
       "      <td>PRETA</td>\n",
       "    </tr>\n",
       "    <tr>\n",
       "      <th>28889</th>\n",
       "      <td>FEMININO</td>\n",
       "      <td>PRETA</td>\n",
       "    </tr>\n",
       "    <tr>\n",
       "      <th>28908</th>\n",
       "      <td>FEMININO</td>\n",
       "      <td>PRETA</td>\n",
       "    </tr>\n",
       "    <tr>\n",
       "      <th>28909</th>\n",
       "      <td>FEMININO</td>\n",
       "      <td>PRETA</td>\n",
       "    </tr>\n",
       "    <tr>\n",
       "      <th>28939</th>\n",
       "      <td>FEMININO</td>\n",
       "      <td>PRETA</td>\n",
       "    </tr>\n",
       "    <tr>\n",
       "      <th>28940</th>\n",
       "      <td>FEMININO</td>\n",
       "      <td>PRETA</td>\n",
       "    </tr>\n",
       "    <tr>\n",
       "      <th>28956</th>\n",
       "      <td>FEMININO</td>\n",
       "      <td>PRETA</td>\n",
       "    </tr>\n",
       "    <tr>\n",
       "      <th>28987</th>\n",
       "      <td>FEMININO</td>\n",
       "      <td>PRETA</td>\n",
       "    </tr>\n",
       "    <tr>\n",
       "      <th>29000</th>\n",
       "      <td>FEMININO</td>\n",
       "      <td>PRETA</td>\n",
       "    </tr>\n",
       "    <tr>\n",
       "      <th>29021</th>\n",
       "      <td>FEMININO</td>\n",
       "      <td>PRETA</td>\n",
       "    </tr>\n",
       "    <tr>\n",
       "      <th>29026</th>\n",
       "      <td>FEMININO</td>\n",
       "      <td>PRETA</td>\n",
       "    </tr>\n",
       "    <tr>\n",
       "      <th>29029</th>\n",
       "      <td>FEMININO</td>\n",
       "      <td>PRETA</td>\n",
       "    </tr>\n",
       "    <tr>\n",
       "      <th>29071</th>\n",
       "      <td>FEMININO</td>\n",
       "      <td>PRETA</td>\n",
       "    </tr>\n",
       "    <tr>\n",
       "      <th>29078</th>\n",
       "      <td>FEMININO</td>\n",
       "      <td>PRETA</td>\n",
       "    </tr>\n",
       "    <tr>\n",
       "      <th>29128</th>\n",
       "      <td>FEMININO</td>\n",
       "      <td>PRETA</td>\n",
       "    </tr>\n",
       "    <tr>\n",
       "      <th>29137</th>\n",
       "      <td>FEMININO</td>\n",
       "      <td>PRETA</td>\n",
       "    </tr>\n",
       "    <tr>\n",
       "      <th>29139</th>\n",
       "      <td>FEMININO</td>\n",
       "      <td>PRETA</td>\n",
       "    </tr>\n",
       "  </tbody>\n",
       "</table>\n",
       "<p>1237 rows × 2 columns</p>\n",
       "</div>"
      ],
      "text/plain": [
       "      DS_GENERO DS_COR_RACA\n",
       "31     FEMININO       PRETA\n",
       "44     FEMININO       PRETA\n",
       "56     FEMININO       PRETA\n",
       "63     FEMININO       PRETA\n",
       "119    FEMININO       PRETA\n",
       "133    FEMININO       PRETA\n",
       "160    FEMININO       PRETA\n",
       "179    FEMININO       PRETA\n",
       "180    FEMININO       PRETA\n",
       "199    FEMININO       PRETA\n",
       "238    FEMININO       PRETA\n",
       "285    FEMININO       PRETA\n",
       "310    FEMININO       PRETA\n",
       "328    FEMININO       PRETA\n",
       "332    FEMININO       PRETA\n",
       "353    FEMININO       PRETA\n",
       "357    FEMININO       PRETA\n",
       "380    FEMININO       PRETA\n",
       "426    FEMININO       PRETA\n",
       "446    FEMININO       PRETA\n",
       "451    FEMININO       PRETA\n",
       "457    FEMININO       PRETA\n",
       "492    FEMININO       PRETA\n",
       "520    FEMININO       PRETA\n",
       "561    FEMININO       PRETA\n",
       "562    FEMININO       PRETA\n",
       "578    FEMININO       PRETA\n",
       "581    FEMININO       PRETA\n",
       "606    FEMININO       PRETA\n",
       "617    FEMININO       PRETA\n",
       "...         ...         ...\n",
       "28763  FEMININO       PRETA\n",
       "28780  FEMININO       PRETA\n",
       "28788  FEMININO       PRETA\n",
       "28790  FEMININO       PRETA\n",
       "28808  FEMININO       PRETA\n",
       "28826  FEMININO       PRETA\n",
       "28828  FEMININO       PRETA\n",
       "28830  FEMININO       PRETA\n",
       "28846  FEMININO       PRETA\n",
       "28849  FEMININO       PRETA\n",
       "28871  FEMININO       PRETA\n",
       "28883  FEMININO       PRETA\n",
       "28884  FEMININO       PRETA\n",
       "28886  FEMININO       PRETA\n",
       "28889  FEMININO       PRETA\n",
       "28908  FEMININO       PRETA\n",
       "28909  FEMININO       PRETA\n",
       "28939  FEMININO       PRETA\n",
       "28940  FEMININO       PRETA\n",
       "28956  FEMININO       PRETA\n",
       "28987  FEMININO       PRETA\n",
       "29000  FEMININO       PRETA\n",
       "29021  FEMININO       PRETA\n",
       "29026  FEMININO       PRETA\n",
       "29029  FEMININO       PRETA\n",
       "29071  FEMININO       PRETA\n",
       "29078  FEMININO       PRETA\n",
       "29128  FEMININO       PRETA\n",
       "29137  FEMININO       PRETA\n",
       "29139  FEMININO       PRETA\n",
       "\n",
       "[1237 rows x 2 columns]"
      ]
     },
     "execution_count": 20,
     "metadata": {},
     "output_type": "execute_result"
    }
   ],
   "source": [
    "dataframe.loc[(dataframe[\"DS_GENERO\"]==\"FEMININO\") & (dataframe[\"DS_COR_RACA\"]==\"PRETA\"), [\"DS_GENERO\",\"DS_COR_RACA\"]]"
   ]
  },
  {
   "cell_type": "markdown",
   "metadata": {},
   "source": [
    "### 1.1.2 Trabalhando com dados de duas colunas ao mesmo tempo"
   ]
  },
  {
   "cell_type": "code",
   "execution_count": 21,
   "metadata": {},
   "outputs": [],
   "source": [
    "GENERO_RACA = pd.crosstab(dataframe.DS_GENERO, dataframe.DS_COR_RACA, margins=True)"
   ]
  },
  {
   "cell_type": "code",
   "execution_count": 22,
   "metadata": {},
   "outputs": [
    {
     "data": {
      "text/html": [
       "<div>\n",
       "<style scoped>\n",
       "    .dataframe tbody tr th:only-of-type {\n",
       "        vertical-align: middle;\n",
       "    }\n",
       "\n",
       "    .dataframe tbody tr th {\n",
       "        vertical-align: top;\n",
       "    }\n",
       "\n",
       "    .dataframe thead th {\n",
       "        text-align: right;\n",
       "    }\n",
       "</style>\n",
       "<table border=\"1\" class=\"dataframe\">\n",
       "  <thead>\n",
       "    <tr style=\"text-align: right;\">\n",
       "      <th>DS_COR_RACA</th>\n",
       "      <th>AMARELA</th>\n",
       "      <th>BRANCA</th>\n",
       "      <th>INDÍGENA</th>\n",
       "      <th>PARDA</th>\n",
       "      <th>PRETA</th>\n",
       "      <th>All</th>\n",
       "    </tr>\n",
       "    <tr>\n",
       "      <th>DS_GENERO</th>\n",
       "      <th></th>\n",
       "      <th></th>\n",
       "      <th></th>\n",
       "      <th></th>\n",
       "      <th></th>\n",
       "      <th></th>\n",
       "    </tr>\n",
       "  </thead>\n",
       "  <tbody>\n",
       "    <tr>\n",
       "      <th>FEMININO</th>\n",
       "      <td>62</td>\n",
       "      <td>4698</td>\n",
       "      <td>49</td>\n",
       "      <td>3165</td>\n",
       "      <td>1237</td>\n",
       "      <td>9211</td>\n",
       "    </tr>\n",
       "    <tr>\n",
       "      <th>MASCULINO</th>\n",
       "      <td>106</td>\n",
       "      <td>10587</td>\n",
       "      <td>85</td>\n",
       "      <td>7231</td>\n",
       "      <td>1924</td>\n",
       "      <td>19933</td>\n",
       "    </tr>\n",
       "    <tr>\n",
       "      <th>All</th>\n",
       "      <td>168</td>\n",
       "      <td>15285</td>\n",
       "      <td>134</td>\n",
       "      <td>10396</td>\n",
       "      <td>3161</td>\n",
       "      <td>29144</td>\n",
       "    </tr>\n",
       "  </tbody>\n",
       "</table>\n",
       "</div>"
      ],
      "text/plain": [
       "DS_COR_RACA  AMARELA  BRANCA  INDÍGENA  PARDA  PRETA    All\n",
       "DS_GENERO                                                  \n",
       "FEMININO          62    4698        49   3165   1237   9211\n",
       "MASCULINO        106   10587        85   7231   1924  19933\n",
       "All              168   15285       134  10396   3161  29144"
      ]
     },
     "execution_count": 22,
     "metadata": {},
     "output_type": "execute_result"
    }
   ],
   "source": [
    "GENERO_RACA"
   ]
  },
  {
   "cell_type": "code",
   "execution_count": 23,
   "metadata": {},
   "outputs": [],
   "source": [
    "CARGO_RACA = pd.crosstab(dataframe.DS_CARGO, dataframe.DS_COR_RACA, margins=True)"
   ]
  },
  {
   "cell_type": "code",
   "execution_count": 24,
   "metadata": {},
   "outputs": [
    {
     "data": {
      "text/html": [
       "<div>\n",
       "<style scoped>\n",
       "    .dataframe tbody tr th:only-of-type {\n",
       "        vertical-align: middle;\n",
       "    }\n",
       "\n",
       "    .dataframe tbody tr th {\n",
       "        vertical-align: top;\n",
       "    }\n",
       "\n",
       "    .dataframe thead th {\n",
       "        text-align: right;\n",
       "    }\n",
       "</style>\n",
       "<table border=\"1\" class=\"dataframe\">\n",
       "  <thead>\n",
       "    <tr style=\"text-align: right;\">\n",
       "      <th>DS_COR_RACA</th>\n",
       "      <th>AMARELA</th>\n",
       "      <th>BRANCA</th>\n",
       "      <th>INDÍGENA</th>\n",
       "      <th>PARDA</th>\n",
       "      <th>PRETA</th>\n",
       "      <th>All</th>\n",
       "    </tr>\n",
       "    <tr>\n",
       "      <th>DS_CARGO</th>\n",
       "      <th></th>\n",
       "      <th></th>\n",
       "      <th></th>\n",
       "      <th></th>\n",
       "      <th></th>\n",
       "      <th></th>\n",
       "    </tr>\n",
       "  </thead>\n",
       "  <tbody>\n",
       "    <tr>\n",
       "      <th>1º SUPLENTE</th>\n",
       "      <td>1</td>\n",
       "      <td>239</td>\n",
       "      <td>3</td>\n",
       "      <td>116</td>\n",
       "      <td>26</td>\n",
       "      <td>385</td>\n",
       "    </tr>\n",
       "    <tr>\n",
       "      <th>2º SUPLENTE</th>\n",
       "      <td>2</td>\n",
       "      <td>223</td>\n",
       "      <td>4</td>\n",
       "      <td>126</td>\n",
       "      <td>39</td>\n",
       "      <td>394</td>\n",
       "    </tr>\n",
       "    <tr>\n",
       "      <th>DEPUTADO DISTRITAL</th>\n",
       "      <td>5</td>\n",
       "      <td>402</td>\n",
       "      <td>1</td>\n",
       "      <td>464</td>\n",
       "      <td>109</td>\n",
       "      <td>981</td>\n",
       "    </tr>\n",
       "    <tr>\n",
       "      <th>DEPUTADO ESTADUAL</th>\n",
       "      <td>98</td>\n",
       "      <td>8949</td>\n",
       "      <td>79</td>\n",
       "      <td>6854</td>\n",
       "      <td>1960</td>\n",
       "      <td>17940</td>\n",
       "    </tr>\n",
       "    <tr>\n",
       "      <th>DEPUTADO FEDERAL</th>\n",
       "      <td>59</td>\n",
       "      <td>4903</td>\n",
       "      <td>39</td>\n",
       "      <td>2650</td>\n",
       "      <td>937</td>\n",
       "      <td>8588</td>\n",
       "    </tr>\n",
       "    <tr>\n",
       "      <th>GOVERNADOR</th>\n",
       "      <td>2</td>\n",
       "      <td>149</td>\n",
       "      <td>2</td>\n",
       "      <td>55</td>\n",
       "      <td>22</td>\n",
       "      <td>230</td>\n",
       "    </tr>\n",
       "    <tr>\n",
       "      <th>PRESIDENTE</th>\n",
       "      <td>0</td>\n",
       "      <td>13</td>\n",
       "      <td>0</td>\n",
       "      <td>1</td>\n",
       "      <td>2</td>\n",
       "      <td>16</td>\n",
       "    </tr>\n",
       "    <tr>\n",
       "      <th>SENADOR</th>\n",
       "      <td>1</td>\n",
       "      <td>235</td>\n",
       "      <td>2</td>\n",
       "      <td>85</td>\n",
       "      <td>35</td>\n",
       "      <td>358</td>\n",
       "    </tr>\n",
       "    <tr>\n",
       "      <th>VICE-GOVERNADOR</th>\n",
       "      <td>0</td>\n",
       "      <td>161</td>\n",
       "      <td>1</td>\n",
       "      <td>44</td>\n",
       "      <td>30</td>\n",
       "      <td>236</td>\n",
       "    </tr>\n",
       "    <tr>\n",
       "      <th>VICE-PRESIDENTE</th>\n",
       "      <td>0</td>\n",
       "      <td>11</td>\n",
       "      <td>3</td>\n",
       "      <td>1</td>\n",
       "      <td>1</td>\n",
       "      <td>16</td>\n",
       "    </tr>\n",
       "    <tr>\n",
       "      <th>All</th>\n",
       "      <td>168</td>\n",
       "      <td>15285</td>\n",
       "      <td>134</td>\n",
       "      <td>10396</td>\n",
       "      <td>3161</td>\n",
       "      <td>29144</td>\n",
       "    </tr>\n",
       "  </tbody>\n",
       "</table>\n",
       "</div>"
      ],
      "text/plain": [
       "DS_COR_RACA         AMARELA  BRANCA  INDÍGENA  PARDA  PRETA    All\n",
       "DS_CARGO                                                          \n",
       "1º SUPLENTE               1     239         3    116     26    385\n",
       "2º SUPLENTE               2     223         4    126     39    394\n",
       "DEPUTADO DISTRITAL        5     402         1    464    109    981\n",
       "DEPUTADO ESTADUAL        98    8949        79   6854   1960  17940\n",
       "DEPUTADO FEDERAL         59    4903        39   2650    937   8588\n",
       "GOVERNADOR                2     149         2     55     22    230\n",
       "PRESIDENTE                0      13         0      1      2     16\n",
       "SENADOR                   1     235         2     85     35    358\n",
       "VICE-GOVERNADOR           0     161         1     44     30    236\n",
       "VICE-PRESIDENTE           0      11         3      1      1     16\n",
       "All                     168   15285       134  10396   3161  29144"
      ]
     },
     "execution_count": 24,
     "metadata": {},
     "output_type": "execute_result"
    }
   ],
   "source": [
    "CARGO_RACA"
   ]
  },
  {
   "cell_type": "code",
   "execution_count": 25,
   "metadata": {},
   "outputs": [],
   "source": [
    "GENERO_REELEICAO = pd.crosstab(dataframe.DS_GENERO, dataframe.ST_REELEICAO, margins=True)"
   ]
  },
  {
   "cell_type": "code",
   "execution_count": 26,
   "metadata": {},
   "outputs": [
    {
     "data": {
      "text/html": [
       "<div>\n",
       "<style scoped>\n",
       "    .dataframe tbody tr th:only-of-type {\n",
       "        vertical-align: middle;\n",
       "    }\n",
       "\n",
       "    .dataframe tbody tr th {\n",
       "        vertical-align: top;\n",
       "    }\n",
       "\n",
       "    .dataframe thead th {\n",
       "        text-align: right;\n",
       "    }\n",
       "</style>\n",
       "<table border=\"1\" class=\"dataframe\">\n",
       "  <thead>\n",
       "    <tr style=\"text-align: right;\">\n",
       "      <th>ST_REELEICAO</th>\n",
       "      <th>N</th>\n",
       "      <th>S</th>\n",
       "      <th>All</th>\n",
       "    </tr>\n",
       "    <tr>\n",
       "      <th>DS_GENERO</th>\n",
       "      <th></th>\n",
       "      <th></th>\n",
       "      <th></th>\n",
       "    </tr>\n",
       "  </thead>\n",
       "  <tbody>\n",
       "    <tr>\n",
       "      <th>FEMININO</th>\n",
       "      <td>9046</td>\n",
       "      <td>165</td>\n",
       "      <td>9211</td>\n",
       "    </tr>\n",
       "    <tr>\n",
       "      <th>MASCULINO</th>\n",
       "      <td>18744</td>\n",
       "      <td>1189</td>\n",
       "      <td>19933</td>\n",
       "    </tr>\n",
       "    <tr>\n",
       "      <th>All</th>\n",
       "      <td>27790</td>\n",
       "      <td>1354</td>\n",
       "      <td>29144</td>\n",
       "    </tr>\n",
       "  </tbody>\n",
       "</table>\n",
       "</div>"
      ],
      "text/plain": [
       "ST_REELEICAO      N     S    All\n",
       "DS_GENERO                       \n",
       "FEMININO       9046   165   9211\n",
       "MASCULINO     18744  1189  19933\n",
       "All           27790  1354  29144"
      ]
     },
     "execution_count": 26,
     "metadata": {},
     "output_type": "execute_result"
    }
   ],
   "source": [
    "GENERO_REELEICAO"
   ]
  },
  {
   "cell_type": "code",
   "execution_count": 27,
   "metadata": {},
   "outputs": [],
   "source": [
    "GENERO_DECLARAR_BENS = pd.crosstab(dataframe.DS_GENERO, dataframe.ST_DECLARAR_BENS, margins=True)"
   ]
  },
  {
   "cell_type": "code",
   "execution_count": 28,
   "metadata": {},
   "outputs": [
    {
     "data": {
      "text/html": [
       "<div>\n",
       "<style scoped>\n",
       "    .dataframe tbody tr th:only-of-type {\n",
       "        vertical-align: middle;\n",
       "    }\n",
       "\n",
       "    .dataframe tbody tr th {\n",
       "        vertical-align: top;\n",
       "    }\n",
       "\n",
       "    .dataframe thead th {\n",
       "        text-align: right;\n",
       "    }\n",
       "</style>\n",
       "<table border=\"1\" class=\"dataframe\">\n",
       "  <thead>\n",
       "    <tr style=\"text-align: right;\">\n",
       "      <th>ST_DECLARAR_BENS</th>\n",
       "      <th>N</th>\n",
       "      <th>S</th>\n",
       "      <th>All</th>\n",
       "    </tr>\n",
       "    <tr>\n",
       "      <th>DS_GENERO</th>\n",
       "      <th></th>\n",
       "      <th></th>\n",
       "      <th></th>\n",
       "    </tr>\n",
       "  </thead>\n",
       "  <tbody>\n",
       "    <tr>\n",
       "      <th>FEMININO</th>\n",
       "      <td>4900</td>\n",
       "      <td>4311</td>\n",
       "      <td>9211</td>\n",
       "    </tr>\n",
       "    <tr>\n",
       "      <th>MASCULINO</th>\n",
       "      <td>6414</td>\n",
       "      <td>13519</td>\n",
       "      <td>19933</td>\n",
       "    </tr>\n",
       "    <tr>\n",
       "      <th>All</th>\n",
       "      <td>11314</td>\n",
       "      <td>17830</td>\n",
       "      <td>29144</td>\n",
       "    </tr>\n",
       "  </tbody>\n",
       "</table>\n",
       "</div>"
      ],
      "text/plain": [
       "ST_DECLARAR_BENS      N      S    All\n",
       "DS_GENERO                            \n",
       "FEMININO           4900   4311   9211\n",
       "MASCULINO          6414  13519  19933\n",
       "All               11314  17830  29144"
      ]
     },
     "execution_count": 28,
     "metadata": {},
     "output_type": "execute_result"
    }
   ],
   "source": [
    "GENERO_DECLARAR_BENS"
   ]
  },
  {
   "cell_type": "code",
   "execution_count": 29,
   "metadata": {},
   "outputs": [],
   "source": [
    "GENERO_UF = pd.crosstab(dataframe.DS_GENERO, dataframe.SG_UF)"
   ]
  },
  {
   "cell_type": "code",
   "execution_count": 30,
   "metadata": {},
   "outputs": [
    {
     "data": {
      "text/html": [
       "<div>\n",
       "<style scoped>\n",
       "    .dataframe tbody tr th:only-of-type {\n",
       "        vertical-align: middle;\n",
       "    }\n",
       "\n",
       "    .dataframe tbody tr th {\n",
       "        vertical-align: top;\n",
       "    }\n",
       "\n",
       "    .dataframe thead th {\n",
       "        text-align: right;\n",
       "    }\n",
       "</style>\n",
       "<table border=\"1\" class=\"dataframe\">\n",
       "  <thead>\n",
       "    <tr style=\"text-align: right;\">\n",
       "      <th>SG_UF</th>\n",
       "      <th>AC</th>\n",
       "      <th>AL</th>\n",
       "      <th>AM</th>\n",
       "      <th>AP</th>\n",
       "      <th>BA</th>\n",
       "      <th>BR</th>\n",
       "      <th>CE</th>\n",
       "      <th>DF</th>\n",
       "      <th>ES</th>\n",
       "      <th>GO</th>\n",
       "      <th>...</th>\n",
       "      <th>PR</th>\n",
       "      <th>RJ</th>\n",
       "      <th>RN</th>\n",
       "      <th>RO</th>\n",
       "      <th>RR</th>\n",
       "      <th>RS</th>\n",
       "      <th>SC</th>\n",
       "      <th>SE</th>\n",
       "      <th>SP</th>\n",
       "      <th>TO</th>\n",
       "    </tr>\n",
       "    <tr>\n",
       "      <th>DS_GENERO</th>\n",
       "      <th></th>\n",
       "      <th></th>\n",
       "      <th></th>\n",
       "      <th></th>\n",
       "      <th></th>\n",
       "      <th></th>\n",
       "      <th></th>\n",
       "      <th></th>\n",
       "      <th></th>\n",
       "      <th></th>\n",
       "      <th></th>\n",
       "      <th></th>\n",
       "      <th></th>\n",
       "      <th></th>\n",
       "      <th></th>\n",
       "      <th></th>\n",
       "      <th></th>\n",
       "      <th></th>\n",
       "      <th></th>\n",
       "      <th></th>\n",
       "      <th></th>\n",
       "    </tr>\n",
       "  </thead>\n",
       "  <tbody>\n",
       "    <tr>\n",
       "      <th>FEMININO</th>\n",
       "      <td>188</td>\n",
       "      <td>148</td>\n",
       "      <td>265</td>\n",
       "      <td>222</td>\n",
       "      <td>372</td>\n",
       "      <td>8</td>\n",
       "      <td>284</td>\n",
       "      <td>389</td>\n",
       "      <td>261</td>\n",
       "      <td>386</td>\n",
       "      <td>...</td>\n",
       "      <td>397</td>\n",
       "      <td>1149</td>\n",
       "      <td>168</td>\n",
       "      <td>205</td>\n",
       "      <td>219</td>\n",
       "      <td>430</td>\n",
       "      <td>248</td>\n",
       "      <td>168</td>\n",
       "      <td>1256</td>\n",
       "      <td>112</td>\n",
       "    </tr>\n",
       "    <tr>\n",
       "      <th>MASCULINO</th>\n",
       "      <td>398</td>\n",
       "      <td>313</td>\n",
       "      <td>594</td>\n",
       "      <td>445</td>\n",
       "      <td>824</td>\n",
       "      <td>24</td>\n",
       "      <td>629</td>\n",
       "      <td>873</td>\n",
       "      <td>572</td>\n",
       "      <td>807</td>\n",
       "      <td>...</td>\n",
       "      <td>891</td>\n",
       "      <td>2550</td>\n",
       "      <td>348</td>\n",
       "      <td>453</td>\n",
       "      <td>468</td>\n",
       "      <td>914</td>\n",
       "      <td>540</td>\n",
       "      <td>362</td>\n",
       "      <td>2696</td>\n",
       "      <td>252</td>\n",
       "    </tr>\n",
       "  </tbody>\n",
       "</table>\n",
       "<p>2 rows × 28 columns</p>\n",
       "</div>"
      ],
      "text/plain": [
       "SG_UF       AC   AL   AM   AP   BA  BR   CE   DF   ES   GO ...    PR    RJ  \\\n",
       "DS_GENERO                                                  ...               \n",
       "FEMININO   188  148  265  222  372   8  284  389  261  386 ...   397  1149   \n",
       "MASCULINO  398  313  594  445  824  24  629  873  572  807 ...   891  2550   \n",
       "\n",
       "SG_UF       RN   RO   RR   RS   SC   SE    SP   TO  \n",
       "DS_GENERO                                           \n",
       "FEMININO   168  205  219  430  248  168  1256  112  \n",
       "MASCULINO  348  453  468  914  540  362  2696  252  \n",
       "\n",
       "[2 rows x 28 columns]"
      ]
     },
     "execution_count": 30,
     "metadata": {},
     "output_type": "execute_result"
    }
   ],
   "source": [
    "GENERO_UF"
   ]
  },
  {
   "cell_type": "code",
   "execution_count": 31,
   "metadata": {},
   "outputs": [],
   "source": [
    "CARGO_GENERO = pd.crosstab(dataframe.DS_CARGO, dataframe.DS_GENERO, margins=True)"
   ]
  },
  {
   "cell_type": "code",
   "execution_count": 32,
   "metadata": {},
   "outputs": [
    {
     "data": {
      "text/html": [
       "<div>\n",
       "<style scoped>\n",
       "    .dataframe tbody tr th:only-of-type {\n",
       "        vertical-align: middle;\n",
       "    }\n",
       "\n",
       "    .dataframe tbody tr th {\n",
       "        vertical-align: top;\n",
       "    }\n",
       "\n",
       "    .dataframe thead th {\n",
       "        text-align: right;\n",
       "    }\n",
       "</style>\n",
       "<table border=\"1\" class=\"dataframe\">\n",
       "  <thead>\n",
       "    <tr style=\"text-align: right;\">\n",
       "      <th>DS_GENERO</th>\n",
       "      <th>FEMININO</th>\n",
       "      <th>MASCULINO</th>\n",
       "      <th>All</th>\n",
       "    </tr>\n",
       "    <tr>\n",
       "      <th>DS_CARGO</th>\n",
       "      <th></th>\n",
       "      <th></th>\n",
       "      <th></th>\n",
       "    </tr>\n",
       "  </thead>\n",
       "  <tbody>\n",
       "    <tr>\n",
       "      <th>1º SUPLENTE</th>\n",
       "      <td>91</td>\n",
       "      <td>294</td>\n",
       "      <td>385</td>\n",
       "    </tr>\n",
       "    <tr>\n",
       "      <th>2º SUPLENTE</th>\n",
       "      <td>116</td>\n",
       "      <td>278</td>\n",
       "      <td>394</td>\n",
       "    </tr>\n",
       "    <tr>\n",
       "      <th>DEPUTADO DISTRITAL</th>\n",
       "      <td>309</td>\n",
       "      <td>672</td>\n",
       "      <td>981</td>\n",
       "    </tr>\n",
       "    <tr>\n",
       "      <th>DEPUTADO ESTADUAL</th>\n",
       "      <td>5744</td>\n",
       "      <td>12196</td>\n",
       "      <td>17940</td>\n",
       "    </tr>\n",
       "    <tr>\n",
       "      <th>DEPUTADO FEDERAL</th>\n",
       "      <td>2767</td>\n",
       "      <td>5821</td>\n",
       "      <td>8588</td>\n",
       "    </tr>\n",
       "    <tr>\n",
       "      <th>GOVERNADOR</th>\n",
       "      <td>31</td>\n",
       "      <td>199</td>\n",
       "      <td>230</td>\n",
       "    </tr>\n",
       "    <tr>\n",
       "      <th>PRESIDENTE</th>\n",
       "      <td>2</td>\n",
       "      <td>14</td>\n",
       "      <td>16</td>\n",
       "    </tr>\n",
       "    <tr>\n",
       "      <th>SENADOR</th>\n",
       "      <td>63</td>\n",
       "      <td>295</td>\n",
       "      <td>358</td>\n",
       "    </tr>\n",
       "    <tr>\n",
       "      <th>VICE-GOVERNADOR</th>\n",
       "      <td>82</td>\n",
       "      <td>154</td>\n",
       "      <td>236</td>\n",
       "    </tr>\n",
       "    <tr>\n",
       "      <th>VICE-PRESIDENTE</th>\n",
       "      <td>6</td>\n",
       "      <td>10</td>\n",
       "      <td>16</td>\n",
       "    </tr>\n",
       "    <tr>\n",
       "      <th>All</th>\n",
       "      <td>9211</td>\n",
       "      <td>19933</td>\n",
       "      <td>29144</td>\n",
       "    </tr>\n",
       "  </tbody>\n",
       "</table>\n",
       "</div>"
      ],
      "text/plain": [
       "DS_GENERO           FEMININO  MASCULINO    All\n",
       "DS_CARGO                                      \n",
       "1º SUPLENTE               91        294    385\n",
       "2º SUPLENTE              116        278    394\n",
       "DEPUTADO DISTRITAL       309        672    981\n",
       "DEPUTADO ESTADUAL       5744      12196  17940\n",
       "DEPUTADO FEDERAL        2767       5821   8588\n",
       "GOVERNADOR                31        199    230\n",
       "PRESIDENTE                 2         14     16\n",
       "SENADOR                   63        295    358\n",
       "VICE-GOVERNADOR           82        154    236\n",
       "VICE-PRESIDENTE            6         10     16\n",
       "All                     9211      19933  29144"
      ]
     },
     "execution_count": 32,
     "metadata": {},
     "output_type": "execute_result"
    }
   ],
   "source": [
    "CARGO_GENERO"
   ]
  },
  {
   "cell_type": "markdown",
   "metadata": {},
   "source": [
    "## 1.2 Gráficos dos nossos dados\n",
    "---"
   ]
  },
  {
   "cell_type": "code",
   "execution_count": 33,
   "metadata": {},
   "outputs": [],
   "source": [
    "import matplotlib.pyplot as plt\n",
    "%matplotlib inline"
   ]
  },
  {
   "cell_type": "markdown",
   "metadata": {},
   "source": [
    "### 1.2.1 Da contabilidade dos dados"
   ]
  },
  {
   "cell_type": "code",
   "execution_count": 35,
   "metadata": {},
   "outputs": [
    {
     "data": {
      "image/png": "[encoded data removed]",
      "text/plain": [
       "<Figure size 432x288 with 1 Axes>"
      ]
     },
     "metadata": {
      "needs_background": "light"
     },
     "output_type": "display_data"
    }
   ],
   "source": [
    "SG_UE.plot(kind='bar')\n",
    "plt.show()"
   ]
  },
  {
   "cell_type": "code",
   "execution_count": 36,
   "metadata": {},
   "outputs": [
    {
     "data": {
      "image/png": "[encoded data removed]",
      "text/plain": [
       "<Figure size 432x288 with 1 Axes>"
      ]
     },
     "metadata": {
      "needs_background": "light"
     },
     "output_type": "display_data"
    }
   ],
   "source": [
    "DS_CARGO.plot(kind='bar')\n",
    "plt.show()"
   ]
  },
  {
   "cell_type": "code",
   "execution_count": 37,
   "metadata": {},
   "outputs": [
    {
     "data": {
      "image/png": "[encoded data removed]",
      "text/plain": [
       "<Figure size 432x288 with 1 Axes>"
      ]
     },
     "metadata": {
      "needs_background": "light"
     },
     "output_type": "display_data"
    }
   ],
   "source": [
    "DS_GENERO.plot(kind='bar')\n",
    "plt.show()"
   ]
  },
  {
   "cell_type": "code",
   "execution_count": 38,
   "metadata": {},
   "outputs": [
    {
     "data": {
      "image/png": "[encoded data removed]",
      "text/plain": [
       "<Figure size 432x288 with 1 Axes>"
      ]
     },
     "metadata": {
      "needs_background": "light"
     },
     "output_type": "display_data"
    }
   ],
   "source": [
    "DS_COR_RACA.sort_values().plot(kind='bar', align='center')\n",
    "plt.show()"
   ]
  },
  {
   "cell_type": "code",
   "execution_count": 39,
   "metadata": {},
   "outputs": [
    {
     "data": {
      "image/png": "[encoded data removed]",
      "text/plain": [
       "<Figure size 432x288 with 1 Axes>"
      ]
     },
     "metadata": {
      "needs_background": "light"
     },
     "output_type": "display_data"
    }
   ],
   "source": [
    "ST_REELEICAO.sort_values().plot(kind='bar')\n",
    "plt.show()"
   ]
  },
  {
   "cell_type": "code",
   "execution_count": 40,
   "metadata": {},
   "outputs": [
    {
     "data": {
      "image/png": "[encoded data removed]",
      "text/plain": [
       "<Figure size 432x288 with 1 Axes>"
      ]
     },
     "metadata": {
      "needs_background": "light"
     },
     "output_type": "display_data"
    }
   ],
   "source": [
    "ST_DECLARAR_BENS.plot(kind='bar')\n",
    "plt.show()"
   ]
  },
  {
   "cell_type": "markdown",
   "metadata": {},
   "source": [
    "### 1.2.2 Do cruzamento dos dados de diferentes colunas"
   ]
  },
  {
   "cell_type": "code",
   "execution_count": 41,
   "metadata": {},
   "outputs": [
    {
     "data": {
      "image/png": "[encoded data removed]",
      "text/plain": [
       "<Figure size 1440x1440 with 1 Axes>"
      ]
     },
     "metadata": {
      "needs_background": "light"
     },
     "output_type": "display_data"
    }
   ],
   "source": [
    "GENERO_RACA.plot(kind='bar', figsize=(20,20))\n",
    "plt.show()"
   ]
  },
  {
   "cell_type": "code",
   "execution_count": 42,
   "metadata": {},
   "outputs": [
    {
     "data": {
      "image/png": "[encoded data removed]",
      "text/plain": [
       "<Figure size 2160x1800 with 1 Axes>"
      ]
     },
     "metadata": {
      "needs_background": "light"
     },
     "output_type": "display_data"
    }
   ],
   "source": [
    "GENERO_REELEICAO.plot(kind='bar', figsize=(30,25))\n",
    "plt.show()"
   ]
  },
  {
   "cell_type": "code",
   "execution_count": 43,
   "metadata": {},
   "outputs": [
    {
     "data": {
      "image/png": "[encoded data removed]",
      "text/plain": [
       "<Figure size 432x288 with 1 Axes>"
      ]
     },
     "metadata": {
      "needs_background": "light"
     },
     "output_type": "display_data"
    }
   ],
   "source": [
    "GENERO_DECLARAR_BENS.plot(kind='bar')\n",
    "plt.show()"
   ]
  },
  {
   "cell_type": "code",
   "execution_count": 44,
   "metadata": {},
   "outputs": [
    {
     "data": {
      "image/png": "[encoded data removed]",
      "text/plain": [
       "<Figure size 1440x720 with 1 Axes>"
      ]
     },
     "metadata": {
      "needs_background": "light"
     },
     "output_type": "display_data"
    }
   ],
   "source": [
    "GENERO_UF.plot(kind='bar', figsize=(20,10))\n",
    "plt.show()"
   ]
  },
  {
   "cell_type": "code",
   "execution_count": 45,
   "metadata": {},
   "outputs": [
    {
     "data": {
      "image/png": "[encoded data removed]",
      "text/plain": [
       "<Figure size 1440x720 with 1 Axes>"
      ]
     },
     "metadata": {
      "needs_background": "light"
     },
     "output_type": "display_data"
    }
   ],
   "source": [
    "CARGO_GENERO.plot(kind='bar', figsize=(20,10))\n",
    "plt.show()"
   ]
  },
  {
   "cell_type": "code",
   "execution_count": 46,
   "metadata": {},
   "outputs": [
    {
     "data": {
      "image/png": "[encoded data removed]",
      "text/plain": [
       "<Figure size 1440x720 with 1 Axes>"
      ]
     },
     "metadata": {
      "needs_background": "light"
     },
     "output_type": "display_data"
    }
   ],
   "source": [
    "CARGO_RACA.plot(kind='bar', figsize=(20,10))\n",
    "plt.show()"
   ]
  },
  {
   "cell_type": "code",
   "execution_count": 47,
   "metadata": {},
   "outputs": [
    {
     "data": {
      "image/png": "[encoded data removed]",
      "text/plain": [
       "<Figure size 1440x720 with 1 Axes>"
      ]
     },
     "metadata": {
      "needs_background": "light"
     },
     "output_type": "display_data"
    }
   ],
   "source": [
    "NR_IDADE_DATA.plot(kind='bar', figsize=(20,10))\n",
    "plt.show()"
   ]
  },
  {
   "cell_type": "markdown",
   "metadata": {},
   "source": [
    "## 1.3 Estatística Descritiva\n",
    "---"
   ]
  },
  {
   "cell_type": "markdown",
   "metadata": {},
   "source": [
    "### 1.3.1 Analisando a idade dos candidatos"
   ]
  },
  {
   "cell_type": "markdown",
   "metadata": {},
   "source": [
    "Nessa fase vamos nos ater a analisar a idade dos candidatos na data da posse (01/01/2019)"
   ]
  },
  {
   "cell_type": "markdown",
   "metadata": {},
   "source": [
    "Média"
   ]
  },
  {
   "cell_type": "code",
   "execution_count": 48,
   "metadata": {},
   "outputs": [
    {
     "data": {
      "text/plain": [
       "47.77024430414494"
      ]
     },
     "execution_count": 48,
     "metadata": {},
     "output_type": "execute_result"
    }
   ],
   "source": [
    "dataframe['NR_IDADE_DATA_POSSE'].mean()"
   ]
  },
  {
   "cell_type": "markdown",
   "metadata": {},
   "source": [
    "Mediana"
   ]
  },
  {
   "cell_type": "code",
   "execution_count": 49,
   "metadata": {},
   "outputs": [
    {
     "data": {
      "text/plain": [
       "48.0"
      ]
     },
     "execution_count": 49,
     "metadata": {},
     "output_type": "execute_result"
    }
   ],
   "source": [
    "dataframe['NR_IDADE_DATA_POSSE'].median()"
   ]
  },
  {
   "cell_type": "markdown",
   "metadata": {},
   "source": [
    "Moda"
   ]
  },
  {
   "cell_type": "code",
   "execution_count": 50,
   "metadata": {},
   "outputs": [
    {
     "data": {
      "text/plain": [
       "0    49\n",
       "dtype: int64"
      ]
     },
     "execution_count": 50,
     "metadata": {},
     "output_type": "execute_result"
    }
   ],
   "source": [
    "dataframe['NR_IDADE_DATA_POSSE'].mode()"
   ]
  },
  {
   "cell_type": "markdown",
   "metadata": {},
   "source": [
    "Amplitude"
   ]
  },
  {
   "cell_type": "code",
   "execution_count": 51,
   "metadata": {},
   "outputs": [
    {
     "data": {
      "text/plain": [
       "94"
      ]
     },
     "execution_count": 51,
     "metadata": {},
     "output_type": "execute_result"
    }
   ],
   "source": [
    "dataframe['NR_IDADE_DATA_POSSE'].max()"
   ]
  },
  {
   "cell_type": "code",
   "execution_count": 52,
   "metadata": {},
   "outputs": [
    {
     "data": {
      "text/plain": [
       "18"
      ]
     },
     "execution_count": 52,
     "metadata": {},
     "output_type": "execute_result"
    }
   ],
   "source": [
    "dataframe['NR_IDADE_DATA_POSSE'].min()"
   ]
  },
  {
   "cell_type": "code",
   "execution_count": 53,
   "metadata": {},
   "outputs": [
    {
     "name": "stdout",
     "output_type": "stream",
     "text": [
      "76\n"
     ]
    }
   ],
   "source": [
    "print(dataframe['NR_IDADE_DATA_POSSE'].max() - dataframe['NR_IDADE_DATA_POSSE'].min())"
   ]
  },
  {
   "cell_type": "markdown",
   "metadata": {},
   "source": [
    "Variância"
   ]
  },
  {
   "cell_type": "code",
   "execution_count": 54,
   "metadata": {},
   "outputs": [
    {
     "name": "stdout",
     "output_type": "stream",
     "text": [
      "131.73762330098324\n"
     ]
    }
   ],
   "source": [
    "print(dataframe['NR_IDADE_DATA_POSSE'].var())"
   ]
  },
  {
   "cell_type": "markdown",
   "metadata": {},
   "source": [
    "Desvio Padrão"
   ]
  },
  {
   "cell_type": "code",
   "execution_count": 55,
   "metadata": {},
   "outputs": [
    {
     "name": "stdout",
     "output_type": "stream",
     "text": [
      "11.477701133109507\n"
     ]
    }
   ],
   "source": [
    "print(dataframe['NR_IDADE_DATA_POSSE'].std())"
   ]
  },
  {
   "cell_type": "code",
   "execution_count": null,
   "metadata": {},
   "outputs": [],
   "source": []
  }
 ],
 "metadata": {
  "kernelspec": {
   "display_name": "Python 3",
   "language": "python",
   "name": "python3"
  },
  "language_info": {
   "codemirror_mode": {
    "name": "ipython",
    "version": 3
   },
   "file_extension": ".py",
   "mimetype": "text/x-python",
   "name": "python",
   "nbconvert_exporter": "python",
   "pygments_lexer": "ipython3",
   "version": "3.6.6"
  }
 },
 "nbformat": 4,
 "nbformat_minor": 2
}
