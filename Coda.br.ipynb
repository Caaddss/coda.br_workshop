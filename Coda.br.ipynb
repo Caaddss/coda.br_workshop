{
 "cells": [
  {
   "cell_type": "markdown",
   "metadata": {},
   "source": [
    "# Coda.Br 2018 \n",
    "\n",
    "## Conferência Brasileira de Jornalismo de Dados e métodos digitais\n",
    "--------------------------------------------------------------------------------------"
   ]
  },
  {
   "cell_type": "markdown",
   "metadata": {},
   "source": [
    "### *Iluminando o mar de dados - Uma introdução a Python para análise de dados*\n",
    "\n",
    "##### Por *Caroline Dantas*"
   ]
  },
  {
   "cell_type": "markdown",
   "metadata": {},
   "source": [
    "Nesse workshop vamos estudar como analisar um dataset público utilizando Python!! O dataset em questão é dos candidatos as Eleições Gerais de 2018, disponível no site do Tribunal Superior Eleitoral - [TSE](http://www.tse.jus.br/eleicoes/estatisticas/repositorio-de-dados-eleitorais-1/repositorio-de-dados-eleitorais).\n"
   ]
  },
  {
   "cell_type": "markdown",
   "metadata": {},
   "source": [
    "#### Por que Python e não outra linguagem?"
   ]
  },
  {
   "cell_type": "markdown",
   "metadata": {},
   "source": [
    "Python destaca-se pela rapidez em escrever programas relativamente pequenos, porém capazes de automatizar diversas tarefas, sem perder a robustez. Por ser uma linguagem de código aberto, a comunidade que a mantém tem grande comprometimento em manter as ferramentas atualizadas, a colocou como uma das principais para aplicações científicas, como a análise de dados.\n"
   ]
  },
  {
   "cell_type": "markdown",
   "metadata": {},
   "source": [
    "### As ferramentas para análise de dados"
   ]
  },
  {
   "cell_type": "markdown",
   "metadata": {},
   "source": [
    "##### IPython e Jupyter\n",
    "Código interativo\n",
    "\n",
    "##### pandas\n",
    "Manipulação de dados\n",
    "\n",
    "##### NumPy\n",
    "Processamento numérico\n",
    "\n",
    "##### matplolib\n",
    "Visualização dos dados\n"
   ]
  },
  {
   "cell_type": "markdown",
   "metadata": {},
   "source": [
    "### Iniciando nosso estudo"
   ]
  },
  {
   "cell_type": "markdown",
   "metadata": {},
   "source": [
    "Começamos com a manipulação dos dados compreendendo o que temos no dataset onde será necessário a limpeza dos dados e/ou a padronização, para isso utilizaremos o *pandas*.\n",
    "\n",
    "Faremos a importação da biblioteca para o nosso ambiente"
   ]
  },
  {
   "cell_type": "code",
   "execution_count": 1,
   "metadata": {},
   "outputs": [],
   "source": [
    "import pandas as pd"
   ]
  },
  {
   "cell_type": "markdown",
   "metadata": {},
   "source": [
    "## 1.0 Overview\n",
    "----------------"
   ]
  },
  {
   "cell_type": "markdown",
   "metadata": {},
   "source": [
    "Feita a importação, vamos agora ler o nosso dataset, e transforma-lo para um dataframe"
   ]
  },
  {
   "cell_type": "code",
   "execution_count": 2,
   "metadata": {},
   "outputs": [],
   "source": [
    "dataframe = pd.read_csv('consulta_cand_2018_BRASIL.csv', delimiter=';', encoding='latin-1')"
   ]
  },
  {
   "cell_type": "markdown",
   "metadata": {},
   "source": [
    "Agora iremos ver a apresentação dos dados, em um resumo das 5 primeiras linhas"
   ]
  },
  {
   "cell_type": "code",
   "execution_count": 3,
   "metadata": {},
   "outputs": [
    {
     "data": {
      "text/html": [
       "<div>\n",
       "<style scoped>\n",
       "    .dataframe tbody tr th:only-of-type {\n",
       "        vertical-align: middle;\n",
       "    }\n",
       "\n",
       "    .dataframe tbody tr th {\n",
       "        vertical-align: top;\n",
       "    }\n",
       "\n",
       "    .dataframe thead th {\n",
       "        text-align: right;\n",
       "    }\n",
       "</style>\n",
       "<table border=\"1\" class=\"dataframe\">\n",
       "  <thead>\n",
       "    <tr style=\"text-align: right;\">\n",
       "      <th></th>\n",
       "      <th>DT_GERACAO</th>\n",
       "      <th>HH_GERACAO</th>\n",
       "      <th>ANO_ELEICAO</th>\n",
       "      <th>CD_TIPO_ELEICAO</th>\n",
       "      <th>NM_TIPO_ELEICAO</th>\n",
       "      <th>NR_TURNO</th>\n",
       "      <th>CD_ELEICAO</th>\n",
       "      <th>DS_ELEICAO</th>\n",
       "      <th>DT_ELEICAO</th>\n",
       "      <th>TP_ABRANGENCIA</th>\n",
       "      <th>...</th>\n",
       "      <th>DS_COR_RACA</th>\n",
       "      <th>CD_OCUPACAO</th>\n",
       "      <th>DS_OCUPACAO</th>\n",
       "      <th>NR_DESPESA_MAX_CAMPANHA</th>\n",
       "      <th>CD_SIT_TOT_TURNO</th>\n",
       "      <th>DS_SIT_TOT_TURNO</th>\n",
       "      <th>ST_REELEICAO</th>\n",
       "      <th>ST_DECLARAR_BENS</th>\n",
       "      <th>NR_PROTOCOLO_CANDIDATURA</th>\n",
       "      <th>NR_PROCESSO</th>\n",
       "    </tr>\n",
       "  </thead>\n",
       "  <tbody>\n",
       "    <tr>\n",
       "      <th>0</th>\n",
       "      <td>30/10/2018</td>\n",
       "      <td>10:39:17</td>\n",
       "      <td>2018</td>\n",
       "      <td>2</td>\n",
       "      <td>ELEIÇÃO ORDINÁRIA</td>\n",
       "      <td>1</td>\n",
       "      <td>297</td>\n",
       "      <td>Eleições Gerais Estaduais 2018</td>\n",
       "      <td>07/10/2018</td>\n",
       "      <td>ESTADUAL</td>\n",
       "      <td>...</td>\n",
       "      <td>PARDA</td>\n",
       "      <td>169</td>\n",
       "      <td>COMERCIANTE</td>\n",
       "      <td>0</td>\n",
       "      <td>5</td>\n",
       "      <td>SUPLENTE</td>\n",
       "      <td>N</td>\n",
       "      <td>S</td>\n",
       "      <td>-1</td>\n",
       "      <td>6011428620186060000</td>\n",
       "    </tr>\n",
       "    <tr>\n",
       "      <th>1</th>\n",
       "      <td>30/10/2018</td>\n",
       "      <td>10:39:17</td>\n",
       "      <td>2018</td>\n",
       "      <td>2</td>\n",
       "      <td>ELEIÇÃO ORDINÁRIA</td>\n",
       "      <td>1</td>\n",
       "      <td>297</td>\n",
       "      <td>Eleições Gerais Estaduais 2018</td>\n",
       "      <td>07/10/2018</td>\n",
       "      <td>ESTADUAL</td>\n",
       "      <td>...</td>\n",
       "      <td>PARDA</td>\n",
       "      <td>999</td>\n",
       "      <td>OUTROS</td>\n",
       "      <td>0</td>\n",
       "      <td>5</td>\n",
       "      <td>SUPLENTE</td>\n",
       "      <td>N</td>\n",
       "      <td>N</td>\n",
       "      <td>-1</td>\n",
       "      <td>6044512320186130000</td>\n",
       "    </tr>\n",
       "    <tr>\n",
       "      <th>2</th>\n",
       "      <td>30/10/2018</td>\n",
       "      <td>10:39:17</td>\n",
       "      <td>2018</td>\n",
       "      <td>2</td>\n",
       "      <td>ELEIÇÃO ORDINÁRIA</td>\n",
       "      <td>1</td>\n",
       "      <td>297</td>\n",
       "      <td>Eleições Gerais Estaduais 2018</td>\n",
       "      <td>07/10/2018</td>\n",
       "      <td>ESTADUAL</td>\n",
       "      <td>...</td>\n",
       "      <td>PRETA</td>\n",
       "      <td>257</td>\n",
       "      <td>EMPRESÁRIO</td>\n",
       "      <td>0</td>\n",
       "      <td>5</td>\n",
       "      <td>SUPLENTE</td>\n",
       "      <td>N</td>\n",
       "      <td>S</td>\n",
       "      <td>-1</td>\n",
       "      <td>6009010420186100000</td>\n",
       "    </tr>\n",
       "    <tr>\n",
       "      <th>3</th>\n",
       "      <td>30/10/2018</td>\n",
       "      <td>10:39:17</td>\n",
       "      <td>2018</td>\n",
       "      <td>2</td>\n",
       "      <td>ELEIÇÃO ORDINÁRIA</td>\n",
       "      <td>1</td>\n",
       "      <td>297</td>\n",
       "      <td>Eleições Gerais Estaduais 2018</td>\n",
       "      <td>07/10/2018</td>\n",
       "      <td>ESTADUAL</td>\n",
       "      <td>...</td>\n",
       "      <td>PARDA</td>\n",
       "      <td>999</td>\n",
       "      <td>OUTROS</td>\n",
       "      <td>0</td>\n",
       "      <td>5</td>\n",
       "      <td>SUPLENTE</td>\n",
       "      <td>N</td>\n",
       "      <td>N</td>\n",
       "      <td>-1</td>\n",
       "      <td>6003259220186070000</td>\n",
       "    </tr>\n",
       "    <tr>\n",
       "      <th>4</th>\n",
       "      <td>30/10/2018</td>\n",
       "      <td>10:39:17</td>\n",
       "      <td>2018</td>\n",
       "      <td>2</td>\n",
       "      <td>ELEIÇÃO ORDINÁRIA</td>\n",
       "      <td>1</td>\n",
       "      <td>297</td>\n",
       "      <td>Eleições Gerais Estaduais 2018</td>\n",
       "      <td>07/10/2018</td>\n",
       "      <td>ESTADUAL</td>\n",
       "      <td>...</td>\n",
       "      <td>BRANCA</td>\n",
       "      <td>999</td>\n",
       "      <td>OUTROS</td>\n",
       "      <td>0</td>\n",
       "      <td>5</td>\n",
       "      <td>SUPLENTE</td>\n",
       "      <td>N</td>\n",
       "      <td>S</td>\n",
       "      <td>-1</td>\n",
       "      <td>6014104820186130000</td>\n",
       "    </tr>\n",
       "  </tbody>\n",
       "</table>\n",
       "<p>5 rows × 58 columns</p>\n",
       "</div>"
      ],
      "text/plain": [
       "   DT_GERACAO HH_GERACAO  ANO_ELEICAO  CD_TIPO_ELEICAO    NM_TIPO_ELEICAO  \\\n",
       "0  30/10/2018   10:39:17         2018                2  ELEIÇÃO ORDINÁRIA   \n",
       "1  30/10/2018   10:39:17         2018                2  ELEIÇÃO ORDINÁRIA   \n",
       "2  30/10/2018   10:39:17         2018                2  ELEIÇÃO ORDINÁRIA   \n",
       "3  30/10/2018   10:39:17         2018                2  ELEIÇÃO ORDINÁRIA   \n",
       "4  30/10/2018   10:39:17         2018                2  ELEIÇÃO ORDINÁRIA   \n",
       "\n",
       "   NR_TURNO  CD_ELEICAO                      DS_ELEICAO  DT_ELEICAO  \\\n",
       "0         1         297  Eleições Gerais Estaduais 2018  07/10/2018   \n",
       "1         1         297  Eleições Gerais Estaduais 2018  07/10/2018   \n",
       "2         1         297  Eleições Gerais Estaduais 2018  07/10/2018   \n",
       "3         1         297  Eleições Gerais Estaduais 2018  07/10/2018   \n",
       "4         1         297  Eleições Gerais Estaduais 2018  07/10/2018   \n",
       "\n",
       "  TP_ABRANGENCIA         ...          DS_COR_RACA CD_OCUPACAO  DS_OCUPACAO  \\\n",
       "0       ESTADUAL         ...                PARDA         169  COMERCIANTE   \n",
       "1       ESTADUAL         ...                PARDA         999       OUTROS   \n",
       "2       ESTADUAL         ...                PRETA         257   EMPRESÁRIO   \n",
       "3       ESTADUAL         ...                PARDA         999       OUTROS   \n",
       "4       ESTADUAL         ...               BRANCA         999       OUTROS   \n",
       "\n",
       "   NR_DESPESA_MAX_CAMPANHA CD_SIT_TOT_TURNO  DS_SIT_TOT_TURNO  ST_REELEICAO  \\\n",
       "0                        0                5          SUPLENTE             N   \n",
       "1                        0                5          SUPLENTE             N   \n",
       "2                        0                5          SUPLENTE             N   \n",
       "3                        0                5          SUPLENTE             N   \n",
       "4                        0                5          SUPLENTE             N   \n",
       "\n",
       "  ST_DECLARAR_BENS NR_PROTOCOLO_CANDIDATURA          NR_PROCESSO  \n",
       "0                S                       -1  6011428620186060000  \n",
       "1                N                       -1  6044512320186130000  \n",
       "2                S                       -1  6009010420186100000  \n",
       "3                N                       -1  6003259220186070000  \n",
       "4                S                       -1  6014104820186130000  \n",
       "\n",
       "[5 rows x 58 columns]"
      ]
     },
     "execution_count": 3,
     "metadata": {},
     "output_type": "execute_result"
    }
   ],
   "source": [
    "dataframe.head()"
   ]
  },
  {
   "cell_type": "markdown",
   "metadata": {},
   "source": [
    "Vimos que esse dataframe tem 58 colunas, porém não conseguimos ver todas nesse overview, vamos usar uma função para isso"
   ]
  },
  {
   "cell_type": "code",
   "execution_count": 4,
   "metadata": {},
   "outputs": [
    {
     "name": "stdout",
     "output_type": "stream",
     "text": [
      "<class 'pandas.core.frame.DataFrame'>\n",
      "RangeIndex: 29145 entries, 0 to 29144\n",
      "Data columns (total 58 columns):\n",
      "DT_GERACAO                       29145 non-null object\n",
      "HH_GERACAO                       29145 non-null object\n",
      "ANO_ELEICAO                      29145 non-null int64\n",
      "CD_TIPO_ELEICAO                  29145 non-null int64\n",
      "NM_TIPO_ELEICAO                  29145 non-null object\n",
      "NR_TURNO                         29145 non-null int64\n",
      "CD_ELEICAO                       29145 non-null int64\n",
      "DS_ELEICAO                       29145 non-null object\n",
      "DT_ELEICAO                       29145 non-null object\n",
      "TP_ABRANGENCIA                   29145 non-null object\n",
      "SG_UF                            29145 non-null object\n",
      "SG_UE                            29145 non-null object\n",
      "NM_UE                            29145 non-null object\n",
      "CD_CARGO                         29145 non-null int64\n",
      "DS_CARGO                         29145 non-null object\n",
      "SQ_CANDIDATO                     29145 non-null int64\n",
      "NR_CANDIDATO                     29145 non-null int64\n",
      "NM_CANDIDATO                     29145 non-null object\n",
      "NM_URNA_CANDIDATO                29145 non-null object\n",
      "NM_SOCIAL_CANDIDATO              29145 non-null object\n",
      "NR_CPF_CANDIDATO                 29145 non-null int64\n",
      "NM_EMAIL                         29145 non-null object\n",
      "CD_SITUACAO_CANDIDATURA          29145 non-null int64\n",
      "DS_SITUACAO_CANDIDATURA          29145 non-null object\n",
      "CD_DETALHE_SITUACAO_CAND         29145 non-null int64\n",
      "DS_DETALHE_SITUACAO_CAND         29145 non-null object\n",
      "TP_AGREMIACAO                    29145 non-null object\n",
      "NR_PARTIDO                       29145 non-null int64\n",
      "SG_PARTIDO                       29145 non-null object\n",
      "NM_PARTIDO                       29145 non-null object\n",
      "SQ_COLIGACAO                     29145 non-null int64\n",
      "NM_COLIGACAO                     29145 non-null object\n",
      "DS_COMPOSICAO_COLIGACAO          29145 non-null object\n",
      "CD_NACIONALIDADE                 29145 non-null int64\n",
      "DS_NACIONALIDADE                 29145 non-null object\n",
      "SG_UF_NASCIMENTO                 29145 non-null object\n",
      "CD_MUNICIPIO_NASCIMENTO          29145 non-null int64\n",
      "NM_MUNICIPIO_NASCIMENTO          29145 non-null object\n",
      "DT_NASCIMENTO                    29145 non-null object\n",
      "NR_IDADE_DATA_POSSE              29145 non-null int64\n",
      "NR_TITULO_ELEITORAL_CANDIDATO    29145 non-null int64\n",
      "CD_GENERO                        29145 non-null int64\n",
      "DS_GENERO                        29145 non-null object\n",
      "CD_GRAU_INSTRUCAO                29145 non-null int64\n",
      "DS_GRAU_INSTRUCAO                29145 non-null object\n",
      "CD_ESTADO_CIVIL                  29145 non-null int64\n",
      "DS_ESTADO_CIVIL                  29145 non-null object\n",
      "CD_COR_RACA                      29145 non-null int64\n",
      "DS_COR_RACA                      29145 non-null object\n",
      "CD_OCUPACAO                      29145 non-null int64\n",
      "DS_OCUPACAO                      29145 non-null object\n",
      "NR_DESPESA_MAX_CAMPANHA          29145 non-null int64\n",
      "CD_SIT_TOT_TURNO                 29145 non-null int64\n",
      "DS_SIT_TOT_TURNO                 29145 non-null object\n",
      "ST_REELEICAO                     29145 non-null object\n",
      "ST_DECLARAR_BENS                 29145 non-null object\n",
      "NR_PROTOCOLO_CANDIDATURA         29145 non-null int64\n",
      "NR_PROCESSO                      29145 non-null int64\n",
      "dtypes: int64(25), object(33)\n",
      "memory usage: 12.9+ MB\n"
     ]
    }
   ],
   "source": [
    "dataframe.info()"
   ]
  },
  {
   "cell_type": "markdown",
   "metadata": {},
   "source": [
    "Outliers"
   ]
  },
  {
   "cell_type": "code",
   "execution_count": 8,
   "metadata": {},
   "outputs": [
    {
     "data": {
      "text/plain": [
       "0        52\n",
       "1        51\n",
       "2        38\n",
       "3        34\n",
       "4        50\n",
       "5        51\n",
       "6        50\n",
       "7        48\n",
       "8        53\n",
       "9        51\n",
       "10       32\n",
       "11       25\n",
       "12       57\n",
       "13       51\n",
       "14       57\n",
       "15       43\n",
       "16       36\n",
       "17       27\n",
       "18       39\n",
       "19       32\n",
       "20       54\n",
       "21       66\n",
       "22       31\n",
       "23       48\n",
       "24       63\n",
       "25       53\n",
       "26       41\n",
       "27       49\n",
       "28       51\n",
       "29       48\n",
       "         ..\n",
       "29115    59\n",
       "29116    56\n",
       "29117    42\n",
       "29118    34\n",
       "29119    48\n",
       "29120    54\n",
       "29121    23\n",
       "29122    44\n",
       "29123    36\n",
       "29124    49\n",
       "29125    65\n",
       "29126    39\n",
       "29127    59\n",
       "29128    45\n",
       "29129    40\n",
       "29130    33\n",
       "29131    35\n",
       "29132    37\n",
       "29133    46\n",
       "29134    52\n",
       "29135    37\n",
       "29136    58\n",
       "29137    51\n",
       "29138    41\n",
       "29139    49\n",
       "29140    35\n",
       "29141    40\n",
       "29142    53\n",
       "29143    32\n",
       "29144    61\n",
       "Name: NR_IDADE_DATA_POSSE, Length: 29145, dtype: int64"
      ]
     },
     "execution_count": 8,
     "metadata": {},
     "output_type": "execute_result"
    }
   ],
   "source": [
    "dataframe['NR_IDADE_DATA_POSSE']\n"
   ]
  },
  {
   "cell_type": "markdown",
   "metadata": {},
   "source": [
    "Quando calculei a amplitude dos meus dados, percebi isso:"
   ]
  },
  {
   "cell_type": "code",
   "execution_count": 9,
   "metadata": {},
   "outputs": [
    {
     "name": "stdout",
     "output_type": "stream",
     "text": [
      "807\n"
     ]
    }
   ],
   "source": [
    "print(dataframe['NR_IDADE_DATA_POSSE'].max() - dataframe['NR_IDADE_DATA_POSSE'].min())"
   ]
  },
  {
   "cell_type": "markdown",
   "metadata": {},
   "source": [
    "Algo muito estranho, não? Então, vamos fazer um chute, e ver qual o valor máximo!!!"
   ]
  },
  {
   "cell_type": "code",
   "execution_count": 10,
   "metadata": {},
   "outputs": [
    {
     "name": "stdout",
     "output_type": "stream",
     "text": [
      "825\n"
     ]
    }
   ],
   "source": [
    "print(dataframe['NR_IDADE_DATA_POSSE'].max())"
   ]
  },
  {
   "cell_type": "markdown",
   "metadata": {},
   "source": [
    "Opa, temos uma idade um pouco estranha ai, está no meio dos nosso dados poluindo, e não apareceu quando olhamos a nossa coluna, pela quantidade de linhas não aparece todas!! Então precisamos procurar onde está esse outlier e retirar dos nossos dados"
   ]
  },
  {
   "cell_type": "code",
   "execution_count": 11,
   "metadata": {},
   "outputs": [
    {
     "data": {
      "text/html": [
       "<div>\n",
       "<style scoped>\n",
       "    .dataframe tbody tr th:only-of-type {\n",
       "        vertical-align: middle;\n",
       "    }\n",
       "\n",
       "    .dataframe tbody tr th {\n",
       "        vertical-align: top;\n",
       "    }\n",
       "\n",
       "    .dataframe thead th {\n",
       "        text-align: right;\n",
       "    }\n",
       "</style>\n",
       "<table border=\"1\" class=\"dataframe\">\n",
       "  <thead>\n",
       "    <tr style=\"text-align: right;\">\n",
       "      <th></th>\n",
       "      <th>DT_GERACAO</th>\n",
       "      <th>HH_GERACAO</th>\n",
       "      <th>ANO_ELEICAO</th>\n",
       "      <th>CD_TIPO_ELEICAO</th>\n",
       "      <th>NM_TIPO_ELEICAO</th>\n",
       "      <th>NR_TURNO</th>\n",
       "      <th>CD_ELEICAO</th>\n",
       "      <th>DS_ELEICAO</th>\n",
       "      <th>DT_ELEICAO</th>\n",
       "      <th>TP_ABRANGENCIA</th>\n",
       "      <th>...</th>\n",
       "      <th>DS_COR_RACA</th>\n",
       "      <th>CD_OCUPACAO</th>\n",
       "      <th>DS_OCUPACAO</th>\n",
       "      <th>NR_DESPESA_MAX_CAMPANHA</th>\n",
       "      <th>CD_SIT_TOT_TURNO</th>\n",
       "      <th>DS_SIT_TOT_TURNO</th>\n",
       "      <th>ST_REELEICAO</th>\n",
       "      <th>ST_DECLARAR_BENS</th>\n",
       "      <th>NR_PROTOCOLO_CANDIDATURA</th>\n",
       "      <th>NR_PROCESSO</th>\n",
       "    </tr>\n",
       "  </thead>\n",
       "  <tbody>\n",
       "    <tr>\n",
       "      <th>15620</th>\n",
       "      <td>30/10/2018</td>\n",
       "      <td>10:39:17</td>\n",
       "      <td>2018</td>\n",
       "      <td>2</td>\n",
       "      <td>ELEIÇÃO ORDINÁRIA</td>\n",
       "      <td>1</td>\n",
       "      <td>297</td>\n",
       "      <td>Eleições Gerais Estaduais 2018</td>\n",
       "      <td>07/10/2018</td>\n",
       "      <td>ESTADUAL</td>\n",
       "      <td>...</td>\n",
       "      <td>BRANCA</td>\n",
       "      <td>999</td>\n",
       "      <td>OUTROS</td>\n",
       "      <td>-1</td>\n",
       "      <td>-1</td>\n",
       "      <td>#NULO#</td>\n",
       "      <td>N</td>\n",
       "      <td>N</td>\n",
       "      <td>-1</td>\n",
       "      <td>6002947720186140000</td>\n",
       "    </tr>\n",
       "  </tbody>\n",
       "</table>\n",
       "<p>1 rows × 58 columns</p>\n",
       "</div>"
      ],
      "text/plain": [
       "       DT_GERACAO HH_GERACAO  ANO_ELEICAO  CD_TIPO_ELEICAO    NM_TIPO_ELEICAO  \\\n",
       "15620  30/10/2018   10:39:17         2018                2  ELEIÇÃO ORDINÁRIA   \n",
       "\n",
       "       NR_TURNO  CD_ELEICAO                      DS_ELEICAO  DT_ELEICAO  \\\n",
       "15620         1         297  Eleições Gerais Estaduais 2018  07/10/2018   \n",
       "\n",
       "      TP_ABRANGENCIA         ...          DS_COR_RACA CD_OCUPACAO DS_OCUPACAO  \\\n",
       "15620       ESTADUAL         ...               BRANCA         999      OUTROS   \n",
       "\n",
       "       NR_DESPESA_MAX_CAMPANHA CD_SIT_TOT_TURNO  DS_SIT_TOT_TURNO  \\\n",
       "15620                       -1               -1            #NULO#   \n",
       "\n",
       "       ST_REELEICAO ST_DECLARAR_BENS NR_PROTOCOLO_CANDIDATURA  \\\n",
       "15620             N                N                       -1   \n",
       "\n",
       "               NR_PROCESSO  \n",
       "15620  6002947720186140000  \n",
       "\n",
       "[1 rows x 58 columns]"
      ]
     },
     "execution_count": 11,
     "metadata": {},
     "output_type": "execute_result"
    }
   ],
   "source": [
    "dataframe[dataframe.NR_IDADE_DATA_POSSE == 825]\n"
   ]
  },
  {
   "cell_type": "markdown",
   "metadata": {},
   "source": [
    "Isso nos retorna em qual linha esta esse dado, assim podemos exclui-lo do conjunto!!!"
   ]
  },
  {
   "cell_type": "code",
   "execution_count": 12,
   "metadata": {},
   "outputs": [],
   "source": [
    "dataframe = dataframe.drop(dataframe.index[15620])"
   ]
  },
  {
   "cell_type": "markdown",
   "metadata": {},
   "source": [
    "## 1.1 Quais colunas vamos analisar?\n",
    "----"
   ]
  },
  {
   "cell_type": "markdown",
   "metadata": {},
   "source": [
    "1. UE\n",
    "2. UF\n",
    "3. GÊNERO\n",
    "4. IDADE DATA DA POSSE\n",
    "5. COR RAÇA\n",
    "6. CARGO\n",
    "7. DESPESA MÁXIMA º\n",
    "8. REELEIÇÃO\n",
    "9. DECLARAR BENS"
   ]
  },
  {
   "cell_type": "markdown",
   "metadata": {},
   "source": [
    "### 1.1.1 Vamos contabilizar os dados dessas colunas"
   ]
  },
  {
   "cell_type": "code",
   "execution_count": 13,
   "metadata": {},
   "outputs": [],
   "source": [
    "SG_UE = dataframe.groupby('SG_UE')['SG_UE'].count()"
   ]
  },
  {
   "cell_type": "code",
   "execution_count": 14,
   "metadata": {},
   "outputs": [
    {
     "data": {
      "text/plain": [
       "SG_UE\n",
       "AC     586\n",
       "AL     461\n",
       "AM     859\n",
       "AP     667\n",
       "BA    1196\n",
       "BR      32\n",
       "CE     913\n",
       "DF    1262\n",
       "ES     833\n",
       "GO    1193\n",
       "MA     796\n",
       "MG    2378\n",
       "MS     545\n",
       "MT     541\n",
       "PA     902\n",
       "PB     621\n",
       "PE    1094\n",
       "PI     439\n",
       "PR    1288\n",
       "RJ    3699\n",
       "RN     516\n",
       "RO     658\n",
       "RR     687\n",
       "RS    1344\n",
       "SC     788\n",
       "SE     530\n",
       "SP    3952\n",
       "TO     364\n",
       "Name: SG_UE, dtype: int64"
      ]
     },
     "execution_count": 14,
     "metadata": {},
     "output_type": "execute_result"
    }
   ],
   "source": [
    "SG_UE"
   ]
  },
  {
   "cell_type": "code",
   "execution_count": 15,
   "metadata": {},
   "outputs": [],
   "source": [
    "DS_CARGO = dataframe.groupby('DS_CARGO')['DS_CARGO'].count()"
   ]
  },
  {
   "cell_type": "code",
   "execution_count": 16,
   "metadata": {},
   "outputs": [
    {
     "data": {
      "text/plain": [
       "DS_CARGO\n",
       "1º SUPLENTE             385\n",
       "2º SUPLENTE             394\n",
       "DEPUTADO DISTRITAL      981\n",
       "DEPUTADO ESTADUAL     17940\n",
       "DEPUTADO FEDERAL       8588\n",
       "GOVERNADOR              230\n",
       "PRESIDENTE               16\n",
       "SENADOR                 358\n",
       "VICE-GOVERNADOR         236\n",
       "VICE-PRESIDENTE          16\n",
       "Name: DS_CARGO, dtype: int64"
      ]
     },
     "execution_count": 16,
     "metadata": {},
     "output_type": "execute_result"
    }
   ],
   "source": [
    "DS_CARGO"
   ]
  },
  {
   "cell_type": "code",
   "execution_count": 17,
   "metadata": {},
   "outputs": [],
   "source": [
    "DS_GENERO = dataframe.groupby('DS_GENERO')['DS_GENERO'].count()"
   ]
  },
  {
   "cell_type": "code",
   "execution_count": 18,
   "metadata": {},
   "outputs": [
    {
     "data": {
      "text/plain": [
       "DS_GENERO\n",
       "FEMININO      9211\n",
       "MASCULINO    19933\n",
       "Name: DS_GENERO, dtype: int64"
      ]
     },
     "execution_count": 18,
     "metadata": {},
     "output_type": "execute_result"
    }
   ],
   "source": [
    "DS_GENERO"
   ]
  },
  {
   "cell_type": "code",
   "execution_count": null,
   "metadata": {},
   "outputs": [],
   "source": [
    "NR_IDADE_DATA = dataframe.groupby('NR_IDADE_DATA_POSSE')['NR_IDADE_DATA_POSSE'].count()"
   ]
  },
  {
   "cell_type": "code",
   "execution_count": null,
   "metadata": {},
   "outputs": [],
   "source": [
    "DS_COR_RACA = dataframe.groupby('DS_COR_RACA')['DS_COR_RACA'].count()"
   ]
  },
  {
   "cell_type": "code",
   "execution_count": null,
   "metadata": {},
   "outputs": [],
   "source": [
    "DS_COR_RACA"
   ]
  },
  {
   "cell_type": "code",
   "execution_count": null,
   "metadata": {},
   "outputs": [],
   "source": [
    "ST_REELEICAO = dataframe.groupby('ST_REELEICAO')['ST_REELEICAO'].count()"
   ]
  },
  {
   "cell_type": "code",
   "execution_count": null,
   "metadata": {},
   "outputs": [],
   "source": [
    "ST_REELEICAO"
   ]
  },
  {
   "cell_type": "code",
   "execution_count": null,
   "metadata": {},
   "outputs": [],
   "source": [
    "ST_DECLARAR_BENS = dataframe.groupby('ST_DECLARAR_BENS')['ST_DECLARAR_BENS'].count()"
   ]
  },
  {
   "cell_type": "code",
   "execution_count": null,
   "metadata": {},
   "outputs": [],
   "source": [
    "ST_DECLARAR_BENS"
   ]
  },
  {
   "cell_type": "code",
   "execution_count": null,
   "metadata": {},
   "outputs": [],
   "source": [
    "dataframe.loc[(dataframe[\"DS_GENERO\"]==\"FEMININO\") & (dataframe[\"DS_COR_RACA\"]==\"PRETA\"), [\"DS_GENERO\",\"DS_COR_RACA\"]]"
   ]
  },
  {
   "cell_type": "markdown",
   "metadata": {},
   "source": [
    "### 1.1.2 Trabalhando com dados de duas colunas ao mesmo tempo"
   ]
  },
  {
   "cell_type": "code",
   "execution_count": null,
   "metadata": {},
   "outputs": [],
   "source": [
    "GENERO_RACA = pd.crosstab(dataframe.DS_GENERO, dataframe.DS_COR_RACA, margins=True)"
   ]
  },
  {
   "cell_type": "code",
   "execution_count": null,
   "metadata": {},
   "outputs": [],
   "source": [
    "GENERO_RACA"
   ]
  },
  {
   "cell_type": "code",
   "execution_count": null,
   "metadata": {},
   "outputs": [],
   "source": [
    "CARGO_RACA = pd.crosstab(dataframe.DS_CARGO, dataframe.DS_COR_RACA, margins=True)"
   ]
  },
  {
   "cell_type": "code",
   "execution_count": null,
   "metadata": {},
   "outputs": [],
   "source": [
    "CARGO_RACA"
   ]
  },
  {
   "cell_type": "code",
   "execution_count": null,
   "metadata": {},
   "outputs": [],
   "source": [
    "GENERO_REELEICAO = pd.crosstab(dataframe.DS_GENERO, dataframe.ST_REELEICAO, margins=True)"
   ]
  },
  {
   "cell_type": "code",
   "execution_count": null,
   "metadata": {},
   "outputs": [],
   "source": [
    "GENERO_REELEICAO"
   ]
  },
  {
   "cell_type": "code",
   "execution_count": null,
   "metadata": {},
   "outputs": [],
   "source": [
    "GENERO_DECLARAR_BENS = pd.crosstab(dataframe.DS_GENERO, dataframe.ST_DECLARAR_BENS, margins=True)"
   ]
  },
  {
   "cell_type": "code",
   "execution_count": null,
   "metadata": {},
   "outputs": [],
   "source": [
    "GENERO_DECLARAR_BENS"
   ]
  },
  {
   "cell_type": "code",
   "execution_count": null,
   "metadata": {},
   "outputs": [],
   "source": [
    "GENERO_UF = pd.crosstab(dataframe.DS_GENERO, dataframe.SG_UF)"
   ]
  },
  {
   "cell_type": "code",
   "execution_count": null,
   "metadata": {},
   "outputs": [],
   "source": [
    "GENERO_UF"
   ]
  },
  {
   "cell_type": "code",
   "execution_count": null,
   "metadata": {},
   "outputs": [],
   "source": [
    "CARGO_GENERO = pd.crosstab(dataframe.DS_CARGO, dataframe.DS_GENERO, margins=True)"
   ]
  },
  {
   "cell_type": "code",
   "execution_count": null,
   "metadata": {},
   "outputs": [],
   "source": [
    "CARGO_GENERO"
   ]
  },
  {
   "cell_type": "markdown",
   "metadata": {},
   "source": [
    "## 1.2 Gráficos dos nossos dados\n",
    "---"
   ]
  },
  {
   "cell_type": "code",
   "execution_count": null,
   "metadata": {},
   "outputs": [],
   "source": [
    "import matplotlib.pyplot as plt\n",
    "%matplotlib inline"
   ]
  },
  {
   "cell_type": "markdown",
   "metadata": {},
   "source": [
    "### 1.2.1 Da contabilidade dos dados"
   ]
  },
  {
   "cell_type": "code",
   "execution_count": null,
   "metadata": {},
   "outputs": [],
   "source": [
    "SG_UE.plot(kind='bar')\n",
    "plt.show()"
   ]
  },
  {
   "cell_type": "code",
   "execution_count": null,
   "metadata": {},
   "outputs": [],
   "source": [
    "DS_CARGO.plot(kind='bar')\n",
    "plt.show()"
   ]
  },
  {
   "cell_type": "code",
   "execution_count": null,
   "metadata": {},
   "outputs": [],
   "source": [
    "DS_GENERO.plot(kind='bar')\n",
    "plt.show()"
   ]
  },
  {
   "cell_type": "code",
   "execution_count": null,
   "metadata": {},
   "outputs": [],
   "source": [
    "DS_COR_RACA.sort_values().plot(kind='bar', align='center')\n",
    "plt.show()"
   ]
  },
  {
   "cell_type": "code",
   "execution_count": null,
   "metadata": {},
   "outputs": [],
   "source": [
    "ST_REELEICAO.sort_values().plot(kind='bar')\n",
    "plt.show()"
   ]
  },
  {
   "cell_type": "code",
   "execution_count": null,
   "metadata": {},
   "outputs": [],
   "source": [
    "ST_DECLARAR_BENS.plot(kind='bar')\n",
    "plt.show()"
   ]
  },
  {
   "cell_type": "markdown",
   "metadata": {},
   "source": [
    "### 1.2.2 Do cruzamento dos dados de diferentes colunas"
   ]
  },
  {
   "cell_type": "code",
   "execution_count": null,
   "metadata": {},
   "outputs": [],
   "source": [
    "GENERO_RACA.plot(kind='bar', figsize=(20,20))\n",
    "plt.show()"
   ]
  },
  {
   "cell_type": "code",
   "execution_count": null,
   "metadata": {},
   "outputs": [],
   "source": [
    "GENERO_REELEICAO.plot(kind='bar', figsize=(30,25))\n",
    "plt.show()"
   ]
  },
  {
   "cell_type": "code",
   "execution_count": null,
   "metadata": {},
   "outputs": [],
   "source": [
    "GENERO_DECLARAR_BENS.plot(kind='bar')\n",
    "plt.show()"
   ]
  },
  {
   "cell_type": "code",
   "execution_count": null,
   "metadata": {},
   "outputs": [],
   "source": [
    "GENERO_UF.plot(kind='bar', figsize=(20,10))\n",
    "plt.show()"
   ]
  },
  {
   "cell_type": "code",
   "execution_count": null,
   "metadata": {},
   "outputs": [],
   "source": [
    "CARGO_GENERO.plot(kind='bar', figsize=(20,10))\n",
    "plt.show()"
   ]
  },
  {
   "cell_type": "code",
   "execution_count": null,
   "metadata": {},
   "outputs": [],
   "source": [
    "CARGO_RACA.plot(kind='bar', figsize=(20,10))\n",
    "plt.show()"
   ]
  },
  {
   "cell_type": "code",
   "execution_count": null,
   "metadata": {},
   "outputs": [],
   "source": [
    "NR_IDADE_DATA.plot(kind='bar', figsize=(20,10))\n",
    "plt.show()"
   ]
  },
  {
   "cell_type": "markdown",
   "metadata": {},
   "source": [
    "## 1.3 Estatística Descritiva\n",
    "---"
   ]
  },
  {
   "cell_type": "markdown",
   "metadata": {},
   "source": [
    "### 1.3.1 Analisando a idade dos candidatos"
   ]
  },
  {
   "cell_type": "markdown",
   "metadata": {},
   "source": [
    "Nessa fase vamos nos ater a analisar a idade dos candidatos na data da posse (01/01/2019)"
   ]
  },
  {
   "cell_type": "markdown",
   "metadata": {},
   "source": [
    "Média"
   ]
  },
  {
   "cell_type": "code",
   "execution_count": null,
   "metadata": {},
   "outputs": [],
   "source": [
    "dataframe['NR_IDADE_DATA_POSSE'].mean()"
   ]
  },
  {
   "cell_type": "markdown",
   "metadata": {},
   "source": [
    "Mediana"
   ]
  },
  {
   "cell_type": "code",
   "execution_count": null,
   "metadata": {},
   "outputs": [],
   "source": [
    "dataframe['NR_IDADE_DATA_POSSE'].median()"
   ]
  },
  {
   "cell_type": "markdown",
   "metadata": {},
   "source": [
    "Moda"
   ]
  },
  {
   "cell_type": "code",
   "execution_count": null,
   "metadata": {},
   "outputs": [],
   "source": [
    "dataframe['NR_IDADE_DATA_POSSE'].mode()"
   ]
  },
  {
   "cell_type": "markdown",
   "metadata": {},
   "source": [
    "Amplitude"
   ]
  },
  {
   "cell_type": "code",
   "execution_count": null,
   "metadata": {},
   "outputs": [],
   "source": [
    "dataframe['NR_IDADE_DATA_POSSE'].max()"
   ]
  },
  {
   "cell_type": "code",
   "execution_count": null,
   "metadata": {},
   "outputs": [],
   "source": [
    "dataframe['NR_IDADE_DATA_POSSE'].min()"
   ]
  },
  {
   "cell_type": "code",
   "execution_count": null,
   "metadata": {},
   "outputs": [],
   "source": [
    "print(dataframe['NR_IDADE_DATA_POSSE'].max() - dataframe['NR_IDADE_DATA_POSSE'].min())"
   ]
  },
  {
   "cell_type": "markdown",
   "metadata": {},
   "source": [
    "Variância"
   ]
  },
  {
   "cell_type": "code",
   "execution_count": null,
   "metadata": {},
   "outputs": [],
   "source": [
    "print(dataframe['NR_IDADE_DATA_POSSE'].var())"
   ]
  },
  {
   "cell_type": "markdown",
   "metadata": {},
   "source": [
    "Desvio Padrão"
   ]
  },
  {
   "cell_type": "code",
   "execution_count": null,
   "metadata": {},
   "outputs": [],
   "source": [
    "print(dataframe['NR_IDADE_DATA_POSSE'].std())"
   ]
  },
  {
   "cell_type": "markdown",
   "metadata": {},
   "source": [
    "Covariância e Correlação entre os dados"
   ]
  },
  {
   "cell_type": "code",
   "execution_count": null,
   "metadata": {},
   "outputs": [],
   "source": [
    "import seaborn as sns"
   ]
  },
  {
   "cell_type": "code",
   "execution_count": null,
   "metadata": {},
   "outputs": [],
   "source": [
    "fig, (ax) = plt.subplots(1, 1, figsize=(20,16))\n",
    "\n",
    "hm = sns.heatmap(dataframe.corr(), \n",
    "#                  vmin=0,\n",
    "#                  vmax=1,\n",
    "                 ax=ax,\n",
    "                 annot=True, \n",
    "                 annot_kws={\"size\": 7}\n",
    "                )\n",
    "\n",
    "# fig.subplots_adjust(top=0.90)\n",
    "fig.suptitle('', \n",
    "              fontsize=14, \n",
    "              fontweight='bold')"
   ]
  },
  {
   "cell_type": "code",
   "execution_count": null,
   "metadata": {},
   "outputs": [],
   "source": [
    "dataframe.cov()"
   ]
  },
  {
   "cell_type": "code",
   "execution_count": null,
   "metadata": {},
   "outputs": [],
   "source": [
    "fig, (ax) = plt.subplots(1, 1, figsize=(20,20))\n",
    "\n",
    "hm = sns.heatmap(dataframe.cov(), \n",
    "#                  vmin=0,\n",
    "#                  vmax=1,\n",
    "                 ax=ax,\n",
    "                 annot=True, \n",
    "                 annot_kws={\"size\": 7}\n",
    "                )\n",
    "\n",
    "# fig.subplots_adjust(top=0.90)\n",
    "fig.suptitle('', \n",
    "              fontsize=14, \n",
    "              fontweight='bold')"
   ]
  },
  {
   "cell_type": "markdown",
   "metadata": {},
   "source": [
    "Muito legal, mas quero colocar nas minhas reportagens algumas porcentagens!!Como faz?!\n",
    "Podemos escrever uma função para calcular as porcentagens, e isso pode ser feito com qualquer outra medida que não esteja nativo no pandas, ou no numpy!!"
   ]
  },
  {
   "cell_type": "code",
   "execution_count": 22,
   "metadata": {},
   "outputs": [],
   "source": [
    "def porcentagem(valor_total, parcial):\n",
    "    por = (100*parcial)/(valor_total)\n",
    "    return por"
   ]
  },
  {
   "cell_type": "markdown",
   "metadata": {},
   "source": [
    "Qual a porcentagem de homens que concorreram a cargos nessa eleição?!"
   ]
  },
  {
   "cell_type": "code",
   "execution_count": 23,
   "metadata": {},
   "outputs": [
    {
     "data": {
      "text/plain": [
       "68.39486686796596"
      ]
     },
     "execution_count": 23,
     "metadata": {},
     "output_type": "execute_result"
    }
   ],
   "source": [
    "porcentagem(29144,19933)"
   ]
  },
  {
   "cell_type": "markdown",
   "metadata": {},
   "source": [
    "E de mulheres?!"
   ]
  },
  {
   "cell_type": "code",
   "execution_count": 24,
   "metadata": {},
   "outputs": [
    {
     "data": {
      "text/plain": [
       "31.605133132034037"
      ]
     },
     "execution_count": 24,
     "metadata": {},
     "output_type": "execute_result"
    }
   ],
   "source": [
    "porcentagem(29144,9211)"
   ]
  },
  {
   "cell_type": "markdown",
   "metadata": {},
   "source": [
    "E de mulheres divididas por raça?!"
   ]
  },
  {
   "cell_type": "code",
   "execution_count": 26,
   "metadata": {},
   "outputs": [],
   "source": [
    "amarela_fem = porcentagem(9211,62)\n",
    "branca_fem = porcentagem(9211,4698)\n",
    "indigena_fem = porcentagem(9211,49)\n",
    "parda_fem = porcentagem(9211,3165)\n",
    "preta_fem = porcentagem(9211,1237)\n"
   ]
  },
  {
   "cell_type": "code",
   "execution_count": 27,
   "metadata": {},
   "outputs": [
    {
     "data": {
      "text/plain": [
       "0.6731082401476496"
      ]
     },
     "execution_count": 27,
     "metadata": {},
     "output_type": "execute_result"
    }
   ],
   "source": [
    "amarela_fem"
   ]
  },
  {
   "cell_type": "code",
   "execution_count": 28,
   "metadata": {},
   "outputs": [
    {
     "data": {
      "text/plain": [
       "51.004234067962216"
      ]
     },
     "execution_count": 28,
     "metadata": {},
     "output_type": "execute_result"
    }
   ],
   "source": [
    "branca_fem"
   ]
  },
  {
   "cell_type": "code",
   "execution_count": 29,
   "metadata": {},
   "outputs": [
    {
     "data": {
      "text/plain": [
       "0.5319726414070134"
      ]
     },
     "execution_count": 29,
     "metadata": {},
     "output_type": "execute_result"
    }
   ],
   "source": [
    "indigena_fem"
   ]
  },
  {
   "cell_type": "code",
   "execution_count": 30,
   "metadata": {},
   "outputs": [
    {
     "data": {
      "text/plain": [
       "34.36109000108566"
      ]
     },
     "execution_count": 30,
     "metadata": {},
     "output_type": "execute_result"
    }
   ],
   "source": [
    "parda_fem"
   ]
  },
  {
   "cell_type": "code",
   "execution_count": 31,
   "metadata": {},
   "outputs": [
    {
     "data": {
      "text/plain": [
       "13.42959504939746"
      ]
     },
     "execution_count": 31,
     "metadata": {},
     "output_type": "execute_result"
    }
   ],
   "source": [
    "preta_fem"
   ]
  },
  {
   "cell_type": "markdown",
   "metadata": {},
   "source": [
    "E homens divididos por raça?"
   ]
  },
  {
   "cell_type": "code",
   "execution_count": 32,
   "metadata": {},
   "outputs": [],
   "source": [
    "amarela_mas = porcentagem(19933,106)\n",
    "branca_mas = porcentagem(19933,10587)\n",
    "indigena_mas = porcentagem(19933,85)\n",
    "parda_mas = porcentagem(19933,7231)\n",
    "preta_mas = porcentagem(19933,1924)"
   ]
  },
  {
   "cell_type": "code",
   "execution_count": 33,
   "metadata": {},
   "outputs": [
    {
     "data": {
      "text/plain": [
       "0.5317814679175237"
      ]
     },
     "execution_count": 33,
     "metadata": {},
     "output_type": "execute_result"
    }
   ],
   "source": [
    "amarela_mas"
   ]
  },
  {
   "cell_type": "code",
   "execution_count": 34,
   "metadata": {},
   "outputs": [
    {
     "data": {
      "text/plain": [
       "53.112928309837955"
      ]
     },
     "execution_count": 34,
     "metadata": {},
     "output_type": "execute_result"
    }
   ],
   "source": [
    "branca_mas"
   ]
  },
  {
   "cell_type": "code",
   "execution_count": 35,
   "metadata": {},
   "outputs": [
    {
     "data": {
      "text/plain": [
       "0.4264285355942407"
      ]
     },
     "execution_count": 35,
     "metadata": {},
     "output_type": "execute_result"
    }
   ],
   "source": [
    "indigena_mas"
   ]
  },
  {
   "cell_type": "code",
   "execution_count": 36,
   "metadata": {},
   "outputs": [
    {
     "data": {
      "text/plain": [
       "36.27652636331711"
      ]
     },
     "execution_count": 36,
     "metadata": {},
     "output_type": "execute_result"
    }
   ],
   "source": [
    "parda_mas"
   ]
  },
  {
   "cell_type": "code",
   "execution_count": 37,
   "metadata": {},
   "outputs": [
    {
     "data": {
      "text/plain": [
       "9.652335323333165"
      ]
     },
     "execution_count": 37,
     "metadata": {},
     "output_type": "execute_result"
    }
   ],
   "source": [
    "preta_mas"
   ]
  },
  {
   "cell_type": "markdown",
   "metadata": {},
   "source": [
    "Mas e se formos mais a fundo, e agora fazer um recorte por gênero e cargo?!"
   ]
  },
  {
   "cell_type": "code",
   "execution_count": 38,
   "metadata": {},
   "outputs": [],
   "source": [
    "um_suplente_fem = porcentagem(385,91)\n",
    "dois_suplente_fem = porcentagem(394,116)\n",
    "distrital_fem = porcentagem(981,309)\n",
    "estadual_fem = porcentagem(17940,5744)\n",
    "federal_fem = porcentagem(8588,2767)\n",
    "governador_fem = porcentagem(230,31)\n",
    "presidente_fem = porcentagem(16,2)\n",
    "senador_fem = porcentagem(358,63)\n",
    "vice_gov_fem = porcentagem(236,82)\n",
    "vice_presi_fem = porcentagem(16,6)\n"
   ]
  },
  {
   "cell_type": "code",
   "execution_count": 40,
   "metadata": {},
   "outputs": [
    {
     "data": {
      "text/plain": [
       "23.636363636363637"
      ]
     },
     "execution_count": 40,
     "metadata": {},
     "output_type": "execute_result"
    }
   ],
   "source": [
    "um_suplente_fem"
   ]
  },
  {
   "cell_type": "code",
   "execution_count": 41,
   "metadata": {},
   "outputs": [
    {
     "data": {
      "text/plain": [
       "29.441624365482234"
      ]
     },
     "execution_count": 41,
     "metadata": {},
     "output_type": "execute_result"
    }
   ],
   "source": [
    "dois_suplente_fem"
   ]
  },
  {
   "cell_type": "code",
   "execution_count": 42,
   "metadata": {},
   "outputs": [
    {
     "data": {
      "text/plain": [
       "31.498470948012233"
      ]
     },
     "execution_count": 42,
     "metadata": {},
     "output_type": "execute_result"
    }
   ],
   "source": [
    "distrital_fem"
   ]
  },
  {
   "cell_type": "code",
   "execution_count": 43,
   "metadata": {},
   "outputs": [
    {
     "data": {
      "text/plain": [
       "32.01783723522854"
      ]
     },
     "execution_count": 43,
     "metadata": {},
     "output_type": "execute_result"
    }
   ],
   "source": [
    "estadual_fem"
   ]
  },
  {
   "cell_type": "code",
   "execution_count": 44,
   "metadata": {},
   "outputs": [
    {
     "data": {
      "text/plain": [
       "32.2193758733116"
      ]
     },
     "execution_count": 44,
     "metadata": {},
     "output_type": "execute_result"
    }
   ],
   "source": [
    "federal_fem"
   ]
  },
  {
   "cell_type": "code",
   "execution_count": 45,
   "metadata": {},
   "outputs": [
    {
     "data": {
      "text/plain": [
       "13.478260869565217"
      ]
     },
     "execution_count": 45,
     "metadata": {},
     "output_type": "execute_result"
    }
   ],
   "source": [
    "governador_fem"
   ]
  },
  {
   "cell_type": "code",
   "execution_count": 46,
   "metadata": {},
   "outputs": [
    {
     "data": {
      "text/plain": [
       "12.5"
      ]
     },
     "execution_count": 46,
     "metadata": {},
     "output_type": "execute_result"
    }
   ],
   "source": [
    "presidente_fem"
   ]
  },
  {
   "cell_type": "code",
   "execution_count": 47,
   "metadata": {},
   "outputs": [
    {
     "data": {
      "text/plain": [
       "17.59776536312849"
      ]
     },
     "execution_count": 47,
     "metadata": {},
     "output_type": "execute_result"
    }
   ],
   "source": [
    "senador_fem"
   ]
  },
  {
   "cell_type": "code",
   "execution_count": 48,
   "metadata": {},
   "outputs": [
    {
     "data": {
      "text/plain": [
       "34.74576271186441"
      ]
     },
     "execution_count": 48,
     "metadata": {},
     "output_type": "execute_result"
    }
   ],
   "source": [
    "vice_gov_fem"
   ]
  },
  {
   "cell_type": "code",
   "execution_count": 49,
   "metadata": {},
   "outputs": [
    {
     "data": {
      "text/plain": [
       "37.5"
      ]
     },
     "execution_count": 49,
     "metadata": {},
     "output_type": "execute_result"
    }
   ],
   "source": [
    "vice_presi_fem"
   ]
  },
  {
   "cell_type": "markdown",
   "metadata": {},
   "source": [
    "Vamos ver os números dos homens"
   ]
  },
  {
   "cell_type": "code",
   "execution_count": 52,
   "metadata": {},
   "outputs": [],
   "source": [
    "um_suplente_masc = porcentagem(385,294)\n",
    "dois_suplente_masc = porcentagem(394,278)\n",
    "distrital_masc = porcentagem(981,672)\n",
    "estadual_masc = porcentagem(17940,12196)\n",
    "federal_masc = porcentagem(8588,5821)\n",
    "governador_masc = porcentagem(230,199)\n",
    "presidente_masc = porcentagem(16,14)\n",
    "senador_masc = porcentagem(358,295)\n",
    "vice_gov_masc = porcentagem(236,154)\n",
    "vice_presi_masc = porcentagem(16,10)"
   ]
  },
  {
   "cell_type": "code",
   "execution_count": 53,
   "metadata": {},
   "outputs": [
    {
     "data": {
      "text/plain": [
       "76.36363636363636"
      ]
     },
     "execution_count": 53,
     "metadata": {},
     "output_type": "execute_result"
    }
   ],
   "source": [
    "um_suplente_masc"
   ]
  },
  {
   "cell_type": "code",
   "execution_count": 54,
   "metadata": {},
   "outputs": [
    {
     "data": {
      "text/plain": [
       "70.55837563451777"
      ]
     },
     "execution_count": 54,
     "metadata": {},
     "output_type": "execute_result"
    }
   ],
   "source": [
    "dois_suplente_masc"
   ]
  },
  {
   "cell_type": "code",
   "execution_count": 55,
   "metadata": {},
   "outputs": [
    {
     "data": {
      "text/plain": [
       "68.50152905198777"
      ]
     },
     "execution_count": 55,
     "metadata": {},
     "output_type": "execute_result"
    }
   ],
   "source": [
    "distrital_masc"
   ]
  },
  {
   "cell_type": "code",
   "execution_count": 56,
   "metadata": {},
   "outputs": [
    {
     "data": {
      "text/plain": [
       "67.98216276477146"
      ]
     },
     "execution_count": 56,
     "metadata": {},
     "output_type": "execute_result"
    }
   ],
   "source": [
    "estadual_masc"
   ]
  },
  {
   "cell_type": "code",
   "execution_count": 57,
   "metadata": {},
   "outputs": [
    {
     "data": {
      "text/plain": [
       "67.78062412668841"
      ]
     },
     "execution_count": 57,
     "metadata": {},
     "output_type": "execute_result"
    }
   ],
   "source": [
    "federal_masc"
   ]
  },
  {
   "cell_type": "code",
   "execution_count": 58,
   "metadata": {},
   "outputs": [
    {
     "data": {
      "text/plain": [
       "86.52173913043478"
      ]
     },
     "execution_count": 58,
     "metadata": {},
     "output_type": "execute_result"
    }
   ],
   "source": [
    "governador_masc"
   ]
  },
  {
   "cell_type": "code",
   "execution_count": 59,
   "metadata": {},
   "outputs": [
    {
     "data": {
      "text/plain": [
       "87.5"
      ]
     },
     "execution_count": 59,
     "metadata": {},
     "output_type": "execute_result"
    }
   ],
   "source": [
    "presidente_masc"
   ]
  },
  {
   "cell_type": "code",
   "execution_count": 60,
   "metadata": {},
   "outputs": [
    {
     "data": {
      "text/plain": [
       "82.40223463687151"
      ]
     },
     "execution_count": 60,
     "metadata": {},
     "output_type": "execute_result"
    }
   ],
   "source": [
    "senador_masc"
   ]
  },
  {
   "cell_type": "code",
   "execution_count": 61,
   "metadata": {},
   "outputs": [
    {
     "data": {
      "text/plain": [
       "65.2542372881356"
      ]
     },
     "execution_count": 61,
     "metadata": {},
     "output_type": "execute_result"
    }
   ],
   "source": [
    "vice_gov_masc"
   ]
  },
  {
   "cell_type": "code",
   "execution_count": 62,
   "metadata": {},
   "outputs": [
    {
     "data": {
      "text/plain": [
       "62.5"
      ]
     },
     "execution_count": 62,
     "metadata": {},
     "output_type": "execute_result"
    }
   ],
   "source": [
    "vice_presi_masc"
   ]
  },
  {
   "cell_type": "markdown",
   "metadata": {},
   "source": []
  }
 ],
 "metadata": {
  "kernelspec": {
   "display_name": "Python 3",
   "language": "python",
   "name": "python3"
  },
  "language_info": {
   "codemirror_mode": {
    "name": "ipython",
    "version": 3
   },
   "file_extension": ".py",
   "mimetype": "text/x-python",
   "name": "python",
   "nbconvert_exporter": "python",
   "pygments_lexer": "ipython3",
   "version": "3.6.6"
  }
 },
 "nbformat": 4,
 "nbformat_minor": 2
}
